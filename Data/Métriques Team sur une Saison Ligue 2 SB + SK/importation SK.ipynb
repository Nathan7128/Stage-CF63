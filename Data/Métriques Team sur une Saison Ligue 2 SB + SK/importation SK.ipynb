{
 "cells": [
  {
   "cell_type": "code",
   "execution_count": 1,
   "metadata": {},
   "outputs": [],
   "source": [
    "from skillcorner.client import SkillcornerClient\n",
    "\n",
    "import pandas as pd\n",
    "\n",
    "import numpy as np\n",
    "\n",
    "import os\n",
    "\n",
    "secret_password = os.getenv(\"mdp_skillcorner\")\n",
    "client = SkillcornerClient(username = \"Nathan.talbot@etu.uca.fr\", password = secret_password)"
   ]
  },
  {
   "cell_type": "code",
   "execution_count": 4,
   "metadata": {},
   "outputs": [],
   "source": [
    "dico_annee = {\n",
    "    \"2023_2024\" : 549,\n",
    "    \"2022_2023\" : 393,\n",
    "    \"2021_2022\" : 243\n",
    "}"
   ]
  },
  {
   "cell_type": "code",
   "execution_count": 5,
   "metadata": {},
   "outputs": [],
   "source": [
    "for i in dico_annee.keys() :\n",
    "    data_import = client.get_in_possession_passes(params = {'competition_edition': dico_annee[i],\n",
    "          \"run_type\" : [\"run_in_behind\", \"run_ahead_of_the_ball\", \"support_run\", \"pulling_wide_run\", \"coming_short_run\", \"underlap_run\",\n",
    "                              \"overlap_run\", \"dropping_off_run\", \"pulling_half_space_run\", \"cross_receiver_run\"]})\n",
    "    pd.DataFrame(data_import).to_excel(f\"{i}/Skill Corner/data_passes.xlsx\", index = True, header = True)"
   ]
  },
  {
   "cell_type": "code",
   "execution_count": 6,
   "metadata": {},
   "outputs": [],
   "source": [
    "for i in dico_annee.keys() :\n",
    "    data_import = client.get_physical(params = {\"data_version\" : 3, 'competition_edition': dico_annee[i], \"possession\" : [\"tip\", \"otip\"], \"physical_check_passed\" : \"true\"})\n",
    "    pd.DataFrame(data_import).to_excel(f\"{i}/Skill Corner/data_physical.xlsx\", index = True, header = True)"
   ]
  },
  {
   "cell_type": "code",
   "execution_count": 7,
   "metadata": {},
   "outputs": [],
   "source": [
    "for i in dico_annee.keys() :\n",
    "    data_import = client.get_in_possession_on_ball_pressures(params = {'competition_edition': dico_annee[i], \"pressure_intensity\" : [\"low\", \"medium\", \"high\"]})\n",
    "    pd.DataFrame(data_import).to_excel(f\"{i}/Skill Corner/data_pressure.xlsx\", index = True, header = True)"
   ]
  },
  {
   "cell_type": "code",
   "execution_count": 8,
   "metadata": {},
   "outputs": [],
   "source": [
    "for i in dico_annee.keys() :\n",
    "    data_import = client.get_in_possession_off_ball_runs(params = {'competition_edition': dico_annee[i], \n",
    "                              \"run_type\" : [\"run_in_behind\", \"run_ahead_of_the_ball\", \"support_run\", \"pulling_wide_run\", \"coming_short_run\", \"underlap_run\",\n",
    "                              \"overlap_run\", \"dropping_off_run\", \"pulling_half_space_run\", \"cross_receiver_run\"]})\n",
    "    pd.DataFrame(data_import).to_excel(f\"{i}/Skill Corner/data_running.xlsx\", index = True, header = True)"
   ]
  }
 ],
 "metadata": {
  "kernelspec": {
   "display_name": "env",
   "language": "python",
   "name": "python3"
  },
  "language_info": {
   "codemirror_mode": {
    "name": "ipython",
    "version": 3
   },
   "file_extension": ".py",
   "mimetype": "text/x-python",
   "name": "python",
   "nbconvert_exporter": "python",
   "pygments_lexer": "ipython3",
   "version": "3.12.4"
  }
 },
 "nbformat": 4,
 "nbformat_minor": 2
}
