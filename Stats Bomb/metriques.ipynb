{
 "cells": [
  {
   "cell_type": "code",
   "execution_count": 1,
   "metadata": {},
   "outputs": [],
   "source": [
    "from statsbombpy import sb\n",
    "\n",
    "import os\n",
    "\n",
    "import pandas as pd\n",
    "\n",
    "import numpy as np\n",
    "\n",
    "from scipy.stats import ttest_ind"
   ]
  },
  {
   "cell_type": "code",
   "execution_count": 2,
   "metadata": {},
   "outputs": [],
   "source": [
    "import warnings\n",
    "warnings.filterwarnings(\"ignore\")"
   ]
  },
  {
   "cell_type": "code",
   "execution_count": 3,
   "metadata": {},
   "outputs": [],
   "source": [
    "email = \"nathan.talbot@etu.uca.fr\"\n",
    "password = os.environ[\"mdp_statsbomb\"]\n",
    "creds = {\"user\" : email, \"passwd\" : password}"
   ]
  },
  {
   "cell_type": "code",
   "execution_count": 4,
   "metadata": {},
   "outputs": [],
   "source": [
    "compet = sb.competitions(creds = creds)"
   ]
  },
  {
   "cell_type": "code",
   "execution_count": 5,
   "metadata": {},
   "outputs": [],
   "source": [
    "ligue2_id = 8\n",
    "season2324_id = 281\n",
    "season2223_id = 235"
   ]
  },
  {
   "cell_type": "code",
   "execution_count": 6,
   "metadata": {},
   "outputs": [],
   "source": [
    "team_stat_import = sb.team_season_stats(ligue2_id, season2324_id, creds = creds)"
   ]
  },
  {
   "cell_type": "code",
   "execution_count": 7,
   "metadata": {},
   "outputs": [],
   "source": [
    "ranking_22_23 = [\"Le Havre\", \"Metz\", \"Bordeaux\", \"Bastia\", \"Caen\", \"Guingamp\", \"Paris FC\",\n",
    "           \"Saint-Étienne\", \"Sochaux\", \"Grenoble Foot\", \"Quevilly Rouen\", \"Amiens\", \"Pau\",\n",
    "           \"Rodez\", \"Laval\", \"Valenciennes\", \"FC Annecy\", \"Dijon\", \"Nîmes\", \"Chamois Niortais\"]\n",
    "ranking_23_24 = [\"Auxerre\", \"Angers\", \"Saint-Étienne\", \"Rodez\", \"Paris FC\", \"Caen\", \"Laval\",\n",
    "           \"Amiens\", \"Guingamp\", \"Pau\", \"Grenoble Foot\", \"Bordeaux\", \"Bastia\",\n",
    "           \"FC Annecy\", \"AC Ajaccio\", \"Dunkerque\", \"Troyes\", \"Quevilly Rouen\", \"Concarneau\", \"Valenciennes\"]"
   ]
  },
  {
   "cell_type": "code",
   "execution_count": 9,
   "metadata": {},
   "outputs": [],
   "source": [
    "team_stat = team_stat_import.set_index(\"team_name\").drop([\"account_id\", \"team_id\", \"competition_id\", \"competition_name\",\n",
    "                                                          \"season_id\", \"season_name\", \"team_female\", \"team_season_minutes\"], axis = 1)\n",
    "team_stat = team_stat.reindex(ranking_23_24)\n",
    "\n",
    "nb_matches = team_stat.pop(\"team_season_matches\")\n",
    "team_stat.to_excel(\"metrique_23_24.xlsx\", header = True, index = True)"
   ]
  },
  {
   "cell_type": "code",
   "execution_count": 10,
   "metadata": {},
   "outputs": [],
   "source": [
    "top5 = ranking_23_24[:5]\n",
    "top15 = ranking_23_24[5:]\n",
    "top5_df = team_stat.loc[top5]\n",
    "top15_df = team_stat.loc[top15]"
   ]
  },
  {
   "cell_type": "code",
   "execution_count": 11,
   "metadata": {},
   "outputs": [],
   "source": [
    "dic_pvalue = {}\n",
    "\n",
    "for i in team_stat.columns :\n",
    "    ttest, pvalue = ttest_ind(top5_df[i], top15_df[i])\n",
    "    dic_pvalue[i] = pvalue"
   ]
  },
  {
   "cell_type": "code",
   "execution_count": 12,
   "metadata": {},
   "outputs": [],
   "source": [
    "tri = pd.DataFrame(pd.Series(dic_pvalue), columns=[\"pvalue\"]).sort_values(by=\"pvalue\")"
   ]
  },
  {
   "cell_type": "code",
   "execution_count": 13,
   "metadata": {},
   "outputs": [],
   "source": [
    "tri.to_excel(\"student_23_24.xlsx\")"
   ]
  },
  {
   "cell_type": "code",
   "execution_count": null,
   "metadata": {},
   "outputs": [],
   "source": []
  },
  {
   "cell_type": "code",
   "execution_count": null,
   "metadata": {},
   "outputs": [],
   "source": []
  }
 ],
 "metadata": {
  "kernelspec": {
   "display_name": "env",
   "language": "python",
   "name": "python3"
  },
  "language_info": {
   "codemirror_mode": {
    "name": "ipython",
    "version": 3
   },
   "file_extension": ".py",
   "mimetype": "text/x-python",
   "name": "python",
   "nbconvert_exporter": "python",
   "pygments_lexer": "ipython3",
   "version": "3.12.4"
  }
 },
 "nbformat": 4,
 "nbformat_minor": 2
}
