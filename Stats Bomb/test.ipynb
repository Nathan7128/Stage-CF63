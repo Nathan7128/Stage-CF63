{
 "cells": [
  {
   "cell_type": "code",
   "execution_count": 1,
   "metadata": {},
   "outputs": [],
   "source": [
    "from statsbombpy import sb\n",
    "\n",
    "import os\n",
    "\n",
    "import pandas as pd\n",
    "\n",
    "import numpy as np\n",
    "\n",
    "from scipy.stats import ttest_ind\n",
    "\n",
    "import warnings\n",
    "warnings.filterwarnings(\"ignore\")\n",
    "\n",
    "email = \"nathan.talbot@etu.uca.fr\"\n",
    "password = os.environ[\"mdp_statsbomb\"]\n",
    "creds = {\"user\" : email, \"passwd\" : password}"
   ]
  },
  {
   "cell_type": "code",
   "execution_count": 2,
   "metadata": {},
   "outputs": [],
   "source": [
    "ligue2_id = 8"
   ]
  },
  {
   "cell_type": "code",
   "execution_count": 3,
   "metadata": {},
   "outputs": [],
   "source": [
    "liste_dico = [{\"comp_id\" : 281,\n",
    "                \"ranking\" : [\"Auxerre\", \"Angers\", \"Saint-Étienne\", \"Rodez\", \"Paris FC\", \"Caen\", \"Laval\",\n",
    "           \"Amiens\", \"Guingamp\", \"Pau\", \"Grenoble Foot\", \"Bordeaux\", \"Bastia\",\n",
    "           \"FC Annecy\", \"AC Ajaccio\", \"Dunkerque\", \"Troyes\", \"Quevilly Rouen\", \"Concarneau\", \"Valenciennes\"],\n",
    "           \"annee\" : \"2023_2024\"},\n",
    "           {\"comp_id\" : 235,\n",
    "                \"ranking\" : [\"Le Havre\", \"Metz\", \"Bordeaux\", \"Bastia\", \"Caen\", \"Guingamp\", \"Paris FC\",\n",
    "           \"Saint-Étienne\", \"Sochaux\", \"Grenoble Foot\", \"Quevilly Rouen\", \"Amiens\", \"Pau\",\n",
    "           \"Rodez\", \"Laval\", \"Valenciennes\", \"FC Annecy\", \"Dijon\", \"Nîmes\", \"Chamois Niortais\"],\n",
    "           \"annee\" : \"2022_2023\"},\n",
    "           {\"comp_id\" : 108,\n",
    "                \"ranking\" : [\"Toulouse FC\", \"AC Ajaccio\", \"AJ Auxerre\", \"Paris FC\", \"FC Sochaux-Montbéliard\", \"En Avant de Guingamp\",\n",
    "                             \"SM Caen\", \"Le Havre AC\", \"Nîmes Olympique\", \"Pau FC\", \"Dijon FCO\", \"SC Bastia\", \"Chamois Niortais FC\", \n",
    "                             \"Amiens Sporting Club\", \"Grenoble Foot 38\", \"Valenciennes FC\", \"Rodez Aveyron\", \"US Quevilly-Rouen\",\n",
    "                             \"Dunkerque\", \"AS Nancy-Lorraine\"],\n",
    "           \"annee\" : \"2021_2022\"}]\n",
    "\n",
    "# i = 0 : année 2023/2024, i = 1 : année 2022/2023\n",
    "i = 2\n",
    "dico = liste_dico[i]"
   ]
  },
  {
   "cell_type": "code",
   "execution_count": 4,
   "metadata": {},
   "outputs": [],
   "source": [
    "team_stat_import = sb.team_season_stats(ligue2_id, dico[\"comp_id\"], creds = creds)"
   ]
  },
  {
   "cell_type": "code",
   "execution_count": 7,
   "metadata": {},
   "outputs": [
    {
     "data": {
      "text/plain": [
       "['Paris FC',\n",
       " 'Quevilly Rouen',\n",
       " 'AC Ajaccio',\n",
       " 'Auxerre',\n",
       " 'Amiens',\n",
       " 'Nancy',\n",
       " 'Chamois Niortais',\n",
       " 'Dijon',\n",
       " 'Guingamp',\n",
       " 'Valenciennes',\n",
       " 'Grenoble Foot',\n",
       " 'Le Havre',\n",
       " 'Nîmes',\n",
       " 'Caen',\n",
       " 'Sochaux',\n",
       " 'Toulouse',\n",
       " 'Rodez',\n",
       " 'Pau',\n",
       " 'Bastia',\n",
       " 'Dunkerque']"
      ]
     },
     "execution_count": 7,
     "metadata": {},
     "output_type": "execute_result"
    }
   ],
   "source": [
    "team_stat_import.team_name.tolist()"
   ]
  },
  {
   "cell_type": "code",
   "execution_count": null,
   "metadata": {},
   "outputs": [],
   "source": []
  },
  {
   "cell_type": "code",
   "execution_count": null,
   "metadata": {},
   "outputs": [],
   "source": []
  },
  {
   "cell_type": "code",
   "execution_count": null,
   "metadata": {},
   "outputs": [],
   "source": []
  },
  {
   "cell_type": "code",
   "execution_count": null,
   "metadata": {},
   "outputs": [],
   "source": []
  },
  {
   "cell_type": "code",
   "execution_count": null,
   "metadata": {},
   "outputs": [],
   "source": []
  },
  {
   "cell_type": "code",
   "execution_count": null,
   "metadata": {},
   "outputs": [],
   "source": []
  },
  {
   "cell_type": "code",
   "execution_count": null,
   "metadata": {},
   "outputs": [],
   "source": []
  }
 ],
 "metadata": {
  "kernelspec": {
   "display_name": "env",
   "language": "python",
   "name": "python3"
  },
  "language_info": {
   "codemirror_mode": {
    "name": "ipython",
    "version": 3
   },
   "file_extension": ".py",
   "mimetype": "text/x-python",
   "name": "python",
   "nbconvert_exporter": "python",
   "pygments_lexer": "ipython3",
   "version": "3.12.4"
  }
 },
 "nbformat": 4,
 "nbformat_minor": 2
}
