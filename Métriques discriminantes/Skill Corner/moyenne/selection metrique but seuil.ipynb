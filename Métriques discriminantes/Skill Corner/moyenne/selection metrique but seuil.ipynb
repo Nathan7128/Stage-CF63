{
 "cells": [
  {
   "cell_type": "code",
   "execution_count": 1,
   "metadata": {},
   "outputs": [],
   "source": [
    "from skillcorner.client import SkillcornerClient\n",
    "\n",
    "import pandas as pd\n",
    "\n",
    "import numpy as np\n",
    "\n",
    "import os\n",
    "\n",
    "secret_password = os.getenv(\"mdp_skillcorner\")\n",
    "client = SkillcornerClient(username = \"Nathan.talbot@etu.uca.fr\", password = secret_password)"
   ]
  },
  {
   "cell_type": "code",
   "execution_count": 3,
   "metadata": {},
   "outputs": [],
   "source": [
    "liste_met = pd.read_excel(\"../../Tableau métriques/liste_métriques.xlsx\", header = 0)"
   ]
  },
  {
   "cell_type": "code",
   "execution_count": 10,
   "metadata": {},
   "outputs": [
    {
     "data": {
      "text/plain": [
       "0           pass_completion_ratio_to_cross_receiver_runs\n",
       "1      pass_opportunities_to_cross_receiver_runs_thre...\n",
       "2      count_pass_opportunities_to_dangerous_cross_re...\n",
       "3       pass_completion_ratio_to_pulling_half_space_runs\n",
       "4      count_opportunities_to_pass_to_cross_receiver_...\n",
       "                             ...                        \n",
       "135        count_dropping_off_runs_by_teammate_per_match\n",
       "136    count_completed_pass_to_coming_short_runs_lead...\n",
       "137    count_pass_attempts_to_dangerous_dropping_off_...\n",
       "138    count_completed_pass_to_overlap_runs_leading_t...\n",
       "139    count_pass_attempts_to_dangerous_pulling_wide_...\n",
       "Name: passes, Length: 140, dtype: object"
      ]
     },
     "execution_count": 10,
     "metadata": {},
     "output_type": "execute_result"
    }
   ],
   "source": [
    "liste_met[\"passes\"].dropna()"
   ]
  },
  {
   "cell_type": "code",
   "execution_count": 27,
   "metadata": {},
   "outputs": [],
   "source": [
    "data_import = pd.read_excel(f\"../../data/2023_2024/Skill Corner/data_passes.xlsx\")"
   ]
  },
  {
   "cell_type": "code",
   "execution_count": 88,
   "metadata": {},
   "outputs": [],
   "source": [
    "ranking = [\"AJ Auxerre\", \"Angers SCO\", \"AS Saint-Étienne\", \"Rodez Aveyron\", \"Paris FC\", \"SM Caen\", \"Stade Lavallois Mayenne FC\", \n",
    "           \"Amiens Sporting Club\", \"En Avant de Guingamp\", \"Pau FC\", \"Grenoble Foot 38\", \"Girondins de Bordeaux\", \"SC Bastia\",\n",
    "           \"FC Annecy\", \"AC Ajaccio\", \"Dunkerque\", \"ES Troyes AC\", \"US Quevilly-Rouen\", \"US Concarneau\", \"Valenciennes FC\"]"
   ]
  },
  {
   "cell_type": "code",
   "execution_count": 93,
   "metadata": {},
   "outputs": [],
   "source": [
    "data = pd.DataFrame(data_import).set_index(\"team_name\")\n",
    "data = data[data.quality_check == True]\n",
    "data.fillna(0, inplace = True)\n",
    "\n",
    "drop = [\"quality_check\", \"player_id\", \"player_name\", \"short_name\", \"player_birthdate\", \"match_id\", \"match_name\", \"match_date\", \"team_id\",\n",
    "    \"competition_id\", \"competition_name\", \"season_id\", \"season_name\", \"competition_edition_id\", \"position\", \"group\", \"result\", \"venue\",\n",
    "    \"third\", \"channel\", \"minutes_played_per_match\", \"adjusted_min_tip_per_match\"]\n",
    "data.drop(drop, inplace = True, axis = 1)\n",
    "\n",
    "data = data.groupby(\"team_name\").sum()\n",
    "data = data.reindex(ranking)\n",
    "data = data[data.columns[[\"goal\" in i for i in data.columns]]]\n",
    "data.loc[\"Somme\"] = data.sum(axis = 0)"
   ]
  },
  {
   "cell_type": "code",
   "execution_count": 94,
   "metadata": {},
   "outputs": [],
   "source": [
    "data.to_excel(\"test.xlsx\", index = True, header = True)"
   ]
  }
 ],
 "metadata": {
  "kernelspec": {
   "display_name": "env",
   "language": "python",
   "name": "python3"
  },
  "language_info": {
   "codemirror_mode": {
    "name": "ipython",
    "version": 3
   },
   "file_extension": ".py",
   "mimetype": "text/x-python",
   "name": "python",
   "nbconvert_exporter": "python",
   "pygments_lexer": "ipython3",
   "version": "3.12.4"
  }
 },
 "nbformat": 4,
 "nbformat_minor": 2
}
