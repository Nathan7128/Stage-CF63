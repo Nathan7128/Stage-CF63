{
 "cells": [
  {
   "cell_type": "code",
   "execution_count": 1,
   "metadata": {},
   "outputs": [],
   "source": [
    "from skillcorner.client import SkillcornerClient\n",
    "\n",
    "import pandas as pd\n",
    "\n",
    "import numpy as np\n",
    "\n",
    "import os\n",
    "\n",
    "secret_password = os.getenv(\"mdp_skillcorner\")\n",
    "client = SkillcornerClient(username = \"Nathan.talbot@etu.uca.fr\", password = secret_password)"
   ]
  },
  {
   "cell_type": "code",
   "execution_count": 42,
   "metadata": {},
   "outputs": [],
   "source": [
    "liste_dico = [{\"match_drop\" : [1550555, 1546206],\n",
    "                \"ranking\" : [\"AJ Auxerre\", \"Angers SCO\", \"AS Saint-Étienne\", \"Rodez Aveyron\", \"Paris FC\", \"SM Caen\", \"Stade Lavallois Mayenne FC\",\n",
    "           \"Amiens Sporting Club\", \"En Avant de Guingamp\", \"Pau FC\", \"Grenoble Foot 38\", \"Girondins de Bordeaux\", \"SC Bastia\",\n",
    "           \"FC Annecy\", \"AC Ajaccio\", \"Dunkerque\", \"ES Troyes AC\", \"US Quevilly-Rouen\", \"US Concarneau\", \"Valenciennes FC\"],\n",
    "           \"annee\" : \"2023_2024\"},\n",
    "           {\"match_drop\" : [],\n",
    "                \"ranking\" : [\"Le Havre AC\", \"FC Metz\", \"Girondins de Bordeaux\", \"SC Bastia\", \"SM Caen\", \"En Avant de Guingamp\", \"Paris FC\",\n",
    "           \"AS Saint-Étienne\", \"FC Sochaux-Montbéliard\", \"Grenoble Foot 38\", \"US Quevilly-Rouen\", \"Amiens Sporting Club\", \"Pau FC\",\n",
    "           \"Rodez Aveyron\", \"Stade Lavallois Mayenne FC\", \"Valenciennes FC\", \"FC Annecy\", \"Dijon FCO\", \"Nîmes Olympique\", \"Chamois Niortais FC\"],\n",
    "           \"annee\" : \"2022_2023\"},\n",
    "           {\"match_drop\" : [129364, 128946],\n",
    "                \"ranking\" : [\"Toulouse FC\", \"AC Ajaccio\", \"AJ Auxerre\", \"Paris FC\", \"FC Sochaux-Montbéliard\", \"En Avant de Guingamp\",\n",
    "                             \"SM Caen\", \"Le Havre AC\", \"Nîmes Olympique\", \"Pau FC\", \"Dijon FCO\", \"SC Bastia\", \"Chamois Niortais FC\", \n",
    "                             \"Amiens Sporting Club\", \"Grenoble Foot 38\", \"Valenciennes FC\", \"Rodez Aveyron\", \"US Quevilly-Rouen\",\n",
    "                             \"Dunkerque\", \"AS Nancy-Lorraine\"],\n",
    "           \"annee\" : \"2021_2022\"}\n",
    "           ]\n",
    "dico = liste_dico[0]"
   ]
  },
  {
   "cell_type": "code",
   "execution_count": 43,
   "metadata": {},
   "outputs": [],
   "source": [
    "data_import = pd.read_excel(f\"../../../../Data_file/Métriques Team sur une Saison Ligue 2 SB + SK/{dico[\"annee\"]}/Skill Corner/data_passes.xlsx\", index_col = 0)\n"
   ]
  },
  {
   "cell_type": "code",
   "execution_count": 97,
   "metadata": {},
   "outputs": [
    {
     "name": "stderr",
     "output_type": "stream",
     "text": [
      "C:\\Users\\fabie\\AppData\\Local\\Temp\\ipykernel_15980\\3230834677.py:26: DeprecationWarning: DataFrameGroupBy.apply operated on the grouping columns. This behavior is deprecated, and in a future version of pandas the grouping columns will be excluded from the operation. Either pass `include_groups=False` to exclude the groupings or explicitly select the grouping columns after groupby to silence this warning.\n",
      "  nb_joueur_match = data.apply(len)\n"
     ]
    }
   ],
   "source": [
    "data = data_import[~(data_import.match_id.isin(dico[\"match_drop\"]))]\n",
    "data = data[data.quality_check == True]\n",
    "data.fillna(0, inplace = True)\n",
    "\n",
    "nb_matchs = pd.Series(index = data.team_name.unique())\n",
    "for team in nb_matchs.index :\n",
    "    nb_matchs[team] = len(data[data.team_name == team].match_id.unique())\n",
    "nb_matchs = nb_matchs.reindex(dico[\"ranking\"])\n",
    "\n",
    "drop = [\"quality_check\", \"player_id\", \"player_name\", \"short_name\", \"player_birthdate\", \"match_name\", \"match_date\", \"team_id\",\n",
    "    \"competition_id\", \"competition_name\", \"season_id\", \"season_name\", \"competition_edition_id\", \"position\", \"group\", \"result\", \"venue\",\n",
    "    \"third\", \"channel\", \"adjusted_min_tip_per_match\"]\n",
    "data.drop(drop, inplace = True, axis = 1)\n",
    "sample = data.columns[[\"sample\" in i for i in data.columns]]\n",
    "data.drop(sample, inplace = True, axis = 1)\n",
    "\n",
    "# AJOUT NUMÉRO DE JOURNÉE AU DATAFRAME\n",
    "match_round = pd.read_excel(f\"../../../../Data_file/Métriques Team sur une Saison Ligue 2 SB + SK/{dico[\"annee\"]}/Skill Corner/match_round.xlsx\",\n",
    "                            index_col = 0)\n",
    "match_round.drop(index = dico[\"match_drop\"], inplace = True)\n",
    "data = data.merge(match_round, right_on = \"id\", left_on = \"match_id\").drop(\"match_id\", axis = 1)\n",
    "\n",
    "# modif métriques ratios\n",
    "met_ratio = data.columns[[\"ratio\" in i for i in data.columns]]\n",
    "data = data.groupby([\"Journée\", \"team_name\"])\n",
    "nb_joueur_match = data.apply(len)\n",
    "data = data.sum()\n",
    "data[met_ratio] = data[met_ratio].divide(nb_joueur_match, axis = 0)\n",
    "nb_minute_match = data.pop(\"minutes_played_per_match\")\n",
    "data = data.multiply(900/nb_minute_match, axis = 0)\n",
    "moyenne_journée = data.groupby(\"Journée\").mean()\n",
    "data.to_excel(f\"Métriques discriminantes/Tableau métriques/Evolutions métriques/Par journée/{dico[\"annee\"]}/Skill Corner/moyenne_équipe.xlsx\")\n",
    "moyenne_journée.to_excel(f\"Métriques discriminantes/Tableau métriques/Evolutions métriques/Par journée/{dico[\"annee\"]}/Skill Corner/moyenne_journée.xlsx\")"
   ]
  }
 ],
 "metadata": {
  "kernelspec": {
   "display_name": "env",
   "language": "python",
   "name": "python3"
  },
  "language_info": {
   "codemirror_mode": {
    "name": "ipython",
    "version": 3
   },
   "file_extension": ".py",
   "mimetype": "text/x-python",
   "name": "python",
   "nbconvert_exporter": "python",
   "pygments_lexer": "ipython3",
   "version": "3.12.4"
  }
 },
 "nbformat": 4,
 "nbformat_minor": 2
}
