{
 "cells": [
  {
   "cell_type": "code",
   "execution_count": 3,
   "metadata": {},
   "outputs": [],
   "source": [
    "from skillcorner.client import SkillcornerClient\n",
    "\n",
    "import pandas as pd\n",
    "\n",
    "import numpy as np\n",
    "\n",
    "import os\n",
    "\n",
    "secret_password = os.getenv(\"mdp_skillcorner\")\n",
    "client = SkillcornerClient(username = \"Nathan.talbot@etu.uca.fr\", password = secret_password)"
   ]
  },
  {
   "cell_type": "code",
   "execution_count": 21,
   "metadata": {},
   "outputs": [],
   "source": [
    "liste_dico = [{\"match_drop\" : [1550555, 1546206],\n",
    "                \"ranking\" : [\"AJ Auxerre\", \"Angers SCO\", \"AS Saint-Étienne\", \"Rodez Aveyron\", \"Paris FC\"],\n",
    "           \"annee\" : \"2023_2024\"},\n",
    "           {\"match_drop\" : [],\n",
    "                \"ranking\" : [\"Le Havre AC\", \"FC Metz\", \"Girondins de Bordeaux\", \"SC Bastia\", \"SM Caen\"],\n",
    "           \"annee\" : \"2022_2023\"},\n",
    "           {\"match_drop\" : [129364, 128946],\n",
    "                \"ranking\" : [\"Toulouse FC\", \"AC Ajaccio\", \"AJ Auxerre\", \"Paris FC\", \"FC Sochaux-Montbéliard\"],\n",
    "           \"annee\" : \"2021_2022\"}\n",
    "           ]\n",
    "dico = liste_dico[0]"
   ]
  },
  {
   "cell_type": "code",
   "execution_count": 4,
   "metadata": {},
   "outputs": [],
   "source": [
    "data_import = pd.read_excel(f\"../../../../Data_file/Métriques Team sur une Saison Ligue 2 SB + SK/{dico[\"annee\"]}/Skill Corner/data_passes.xlsx\", index_col = 0)\n"
   ]
  },
  {
   "cell_type": "code",
   "execution_count": 65,
   "metadata": {},
   "outputs": [
    {
     "name": "stderr",
     "output_type": "stream",
     "text": [
      "C:\\Users\\fabie\\AppData\\Local\\Temp\\ipykernel_16768\\3234890574.py:21: DeprecationWarning: DataFrameGroupBy.apply operated on the grouping columns. This behavior is deprecated, and in a future version of pandas the grouping columns will be excluded from the operation. Either pass `include_groups=False` to exclude the groupings or explicitly select the grouping columns after groupby to silence this warning.\n",
      "  nb_joueur_match = data.apply(len)\n"
     ]
    }
   ],
   "source": [
    "data = data_import[~(data_import.match_id.isin(dico[\"match_drop\"]))]\n",
    "data = data[data.quality_check == True]\n",
    "data.fillna(0, inplace = True)\n",
    "\n",
    "drop = [\"quality_check\", \"player_id\", \"player_name\", \"short_name\", \"player_birthdate\", \"match_name\", \"match_date\", \"team_id\",\n",
    "     \"competition_id\", \"competition_name\", \"season_id\", \"season_name\", \"competition_edition_id\", \"position\", \"group\", \"result\", \"venue\",\n",
    "     \"third\", \"channel\", \"adjusted_min_tip_per_match\"]\n",
    "data.drop(drop, inplace = True, axis = 1)\n",
    "sample = data.columns[[\"sample\" in i for i in data.columns]]\n",
    "data.drop(sample, inplace = True, axis = 1)\n",
    "\n",
    "# AJOUT NUMÉRO DE JOURNÉE AU DATAFRAME\n",
    "match_round = pd.read_excel(f\"../../../../Data_file/Métriques Team sur une Saison Ligue 2 SB + SK/{dico[\"annee\"]}/Skill Corner/match_round.xlsx\",\n",
    "                              index_col = 0)\n",
    "match_round.drop(index = dico[\"match_drop\"], inplace = True)\n",
    "data = data.merge(match_round, right_on = \"id\", left_on = \"match_id\").drop(\"match_id\", axis = 1)\n",
    "\n",
    "# modif métriques ratios\n",
    "met_ratio = data.columns[[\"ratio\" in i for i in data.columns]]\n",
    "data = data.groupby([\"Journée\", \"team_name\"], as_index = True)\n",
    "nb_joueur_match = data.apply(len)\n",
    "data = data.sum()\n",
    "data[met_ratio] = data[met_ratio].divide(nb_joueur_match, axis = 0)\n",
    "\n",
    "nb_minute_match = data.pop(\"minutes_played_per_match\")\n",
    "data = data.multiply(900/nb_minute_match, axis = 0)\n",
    "moyenne_top20 = data.groupby(\"Journée\").mean()\n",
    "moyenne_top5 = data[data.index.get_level_values(\"team_name\").isin(dico[\"ranking\"])].groupby(\"Journée\").mean()\n",
    "moyenne_bottom15 = data[~data.index.get_level_values(\"team_name\").isin(dico[\"ranking\"])].groupby(\"Journée\").mean()"
   ]
  },
  {
   "cell_type": "code",
   "execution_count": 81,
   "metadata": {},
   "outputs": [],
   "source": [
    "moyenne_top20 = data.groupby(\"Journée\").mean()\n",
    "moyenne_top5 = data[data.index.get_level_values(\"team_name\").isin(dico[\"ranking\"])].groupby(\"Journée\").mean()\n",
    "moyenne_bottom15 = data[~data.index.get_level_values(\"team_name\").isin(dico[\"ranking\"])].groupby(\"Journée\").mean()"
   ]
  },
  {
   "cell_type": "code",
   "execution_count": 84,
   "metadata": {},
   "outputs": [
    {
     "name": "stderr",
     "output_type": "stream",
     "text": [
      "C:\\Users\\fabie\\AppData\\Local\\Temp\\ipykernel_16768\\511126347.py:43: DeprecationWarning: DataFrameGroupBy.apply operated on the grouping columns. This behavior is deprecated, and in a future version of pandas the grouping columns will be excluded from the operation. Either pass `include_groups=False` to exclude the groupings or explicitly select the grouping columns after groupby to silence this warning.\n",
      "  nb_joueur_match = data.apply(len)\n"
     ]
    }
   ],
   "source": [
    "import pandas as pd\n",
    "\n",
    "liste_dico = [{\"match_drop\" : [1550555, 1546206],\n",
    "                \"ranking\" : [\"AJ Auxerre\", \"Angers SCO\", \"AS Saint-Étienne\", \"Rodez Aveyron\", \"Paris FC\", \"SM Caen\", \"Stade Lavallois Mayenne FC\",\n",
    "           \"Amiens Sporting Club\", \"En Avant de Guingamp\", \"Pau FC\", \"Grenoble Foot 38\", \"Girondins de Bordeaux\", \"SC Bastia\",\n",
    "           \"FC Annecy\", \"AC Ajaccio\", \"Dunkerque\", \"ES Troyes AC\", \"US Quevilly-Rouen\", \"US Concarneau\", \"Valenciennes FC\"],\n",
    "           \"annee\" : \"2023_2024\"},\n",
    "           {\"match_drop\" : [],\n",
    "                \"ranking\" : [\"Le Havre AC\", \"FC Metz\", \"Girondins de Bordeaux\", \"SC Bastia\", \"SM Caen\", \"En Avant de Guingamp\", \"Paris FC\",\n",
    "           \"AS Saint-Étienne\", \"FC Sochaux-Montbéliard\", \"Grenoble Foot 38\", \"US Quevilly-Rouen\", \"Amiens Sporting Club\", \"Pau FC\",\n",
    "           \"Rodez Aveyron\", \"Stade Lavallois Mayenne FC\", \"Valenciennes FC\", \"FC Annecy\", \"Dijon FCO\", \"Nîmes Olympique\", \"Chamois Niortais FC\"],\n",
    "           \"annee\" : \"2022_2023\"},\n",
    "           {\"match_drop\" : [129364, 128946],\n",
    "                \"ranking\" : [\"Toulouse FC\", \"AC Ajaccio\", \"AJ Auxerre\", \"Paris FC\", \"FC Sochaux-Montbéliard\", \"En Avant de Guingamp\",\n",
    "                             \"SM Caen\", \"Le Havre AC\", \"Nîmes Olympique\", \"Pau FC\", \"Dijon FCO\", \"SC Bastia\", \"Chamois Niortais FC\", \n",
    "                             \"Amiens Sporting Club\", \"Grenoble Foot 38\", \"Valenciennes FC\", \"Rodez Aveyron\", \"US Quevilly-Rouen\",\n",
    "                             \"Dunkerque\", \"AS Nancy-Lorraine\"],\n",
    "           \"annee\" : \"2021_2022\"}\n",
    "           ]\n",
    "\n",
    "for dico in liste_dico :\n",
    "     data_import = pd.read_excel(f\"../../../../Data_file/Métriques Team sur une Saison Ligue 2 SB + SK/{dico[\"annee\"]}/Skill Corner/data_passes.xlsx\", index_col = 0)\n",
    "     data = data_import[~(data_import.match_id.isin(dico[\"match_drop\"]))]\n",
    "     data = data[data.quality_check == True]\n",
    "     data.fillna(0, inplace = True)\n",
    "\n",
    "     drop = [\"quality_check\", \"player_id\", \"player_name\", \"short_name\", \"player_birthdate\", \"match_name\", \"match_date\", \"team_id\",\n",
    "          \"competition_id\", \"competition_name\", \"season_id\", \"season_name\", \"competition_edition_id\", \"position\", \"group\", \"result\", \"venue\",\n",
    "          \"third\", \"channel\", \"adjusted_min_tip_per_match\"]\n",
    "     data.drop(drop, inplace = True, axis = 1)\n",
    "     sample = data.columns[[\"sample\" in i for i in data.columns]]\n",
    "     data.drop(sample, inplace = True, axis = 1)\n",
    "\n",
    "     # AJOUT NUMÉRO DE JOURNÉE AU DATAFRAME\n",
    "     match_round = pd.read_excel(f\"../../../../Data_file/Métriques Team sur une Saison Ligue 2 SB + SK/{dico[\"annee\"]}/Skill Corner/match_round.xlsx\",\n",
    "                                   index_col = 0)\n",
    "     match_round.drop(index = dico[\"match_drop\"], inplace = True)\n",
    "     data = data.merge(match_round, right_on = \"id\", left_on = \"match_id\").drop(\"match_id\", axis = 1)\n",
    "\n",
    "     # modif métriques ratios\n",
    "     met_ratio = data.columns[[\"ratio\" in i for i in data.columns]]\n",
    "     data = data.groupby([\"Journée\", \"team_name\"], as_index = True)\n",
    "     nb_joueur_match = data.apply(len)\n",
    "     data = data.sum()\n",
    "     data[met_ratio] = data[met_ratio].divide(nb_joueur_match, axis = 0)\n",
    "\n",
    "     nb_minute_match = data.pop(\"minutes_played_per_match\")\n",
    "     data = data.multiply(900/nb_minute_match, axis = 0)\n",
    "\n",
    "     moyenne_top20 = data.groupby(\"Journée\").mean()\n",
    "     moyenne_top5 = data[data.index.get_level_values(\"team_name\").isin(dico[\"ranking\"])].groupby(\"Journée\").mean()\n",
    "     moyenne_bottom15 = data[~data.index.get_level_values(\"team_name\").isin(dico[\"ranking\"])].groupby(\"Journée\").mean()\n",
    "     break"
   ]
  },
  {
   "cell_type": "code",
   "execution_count": 92,
   "metadata": {},
   "outputs": [
    {
     "data": {
      "text/html": [
       "<div>\n",
       "<style scoped>\n",
       "    .dataframe tbody tr th:only-of-type {\n",
       "        vertical-align: middle;\n",
       "    }\n",
       "\n",
       "    .dataframe tbody tr th {\n",
       "        vertical-align: top;\n",
       "    }\n",
       "\n",
       "    .dataframe thead th {\n",
       "        text-align: right;\n",
       "    }\n",
       "</style>\n",
       "<table border=\"1\" class=\"dataframe\">\n",
       "  <thead>\n",
       "    <tr style=\"text-align: right;\">\n",
       "      <th></th>\n",
       "      <th></th>\n",
       "      <th>count_opportunities_to_pass_to_runs_in_behind_per_match</th>\n",
       "      <th>count_pass_attempts_to_runs_in_behind_per_match</th>\n",
       "      <th>pass_opportunities_to_runs_in_behind_threat_per_match</th>\n",
       "      <th>runs_in_behind_to_which_pass_attempted_threat_per_match</th>\n",
       "      <th>pass_completion_ratio_to_runs_in_behind</th>\n",
       "      <th>count_runs_in_behind_by_teammate_per_match</th>\n",
       "      <th>runs_in_behind_to_which_pass_completed_threat_per_match</th>\n",
       "      <th>count_completed_pass_to_runs_in_behind_per_match</th>\n",
       "      <th>count_completed_pass_to_runs_in_behind_leading_to_shot_per_match</th>\n",
       "      <th>count_completed_pass_to_runs_in_behind_leading_to_goal_per_match</th>\n",
       "      <th>...</th>\n",
       "      <th>cross_receiver_runs_to_which_pass_attempted_threat_per_match</th>\n",
       "      <th>pass_completion_ratio_to_cross_receiver_runs</th>\n",
       "      <th>count_cross_receiver_runs_by_teammate_per_match</th>\n",
       "      <th>cross_receiver_runs_to_which_pass_completed_threat_per_match</th>\n",
       "      <th>count_completed_pass_to_cross_receiver_runs_per_match</th>\n",
       "      <th>count_completed_pass_to_cross_receiver_runs_leading_to_shot_per_match</th>\n",
       "      <th>count_completed_pass_to_cross_receiver_runs_leading_to_goal_per_match</th>\n",
       "      <th>count_pass_opportunities_to_dangerous_cross_receiver_runs_per_match</th>\n",
       "      <th>count_pass_attempts_to_dangerous_cross_receiver_runs_per_match</th>\n",
       "      <th>count_completed_pass_to_dangerous_cross_receiver_runs_per_match</th>\n",
       "    </tr>\n",
       "    <tr>\n",
       "      <th>Journée</th>\n",
       "      <th>team_name</th>\n",
       "      <th></th>\n",
       "      <th></th>\n",
       "      <th></th>\n",
       "      <th></th>\n",
       "      <th></th>\n",
       "      <th></th>\n",
       "      <th></th>\n",
       "      <th></th>\n",
       "      <th></th>\n",
       "      <th></th>\n",
       "      <th></th>\n",
       "      <th></th>\n",
       "      <th></th>\n",
       "      <th></th>\n",
       "      <th></th>\n",
       "      <th></th>\n",
       "      <th></th>\n",
       "      <th></th>\n",
       "      <th></th>\n",
       "      <th></th>\n",
       "      <th></th>\n",
       "    </tr>\n",
       "  </thead>\n",
       "  <tbody>\n",
       "  </tbody>\n",
       "</table>\n",
       "<p>0 rows × 130 columns</p>\n",
       "</div>"
      ],
      "text/plain": [
       "Empty DataFrame\n",
       "Columns: [count_opportunities_to_pass_to_runs_in_behind_per_match, count_pass_attempts_to_runs_in_behind_per_match, pass_opportunities_to_runs_in_behind_threat_per_match, runs_in_behind_to_which_pass_attempted_threat_per_match, pass_completion_ratio_to_runs_in_behind, count_runs_in_behind_by_teammate_per_match, runs_in_behind_to_which_pass_completed_threat_per_match, count_completed_pass_to_runs_in_behind_per_match, count_completed_pass_to_runs_in_behind_leading_to_shot_per_match, count_completed_pass_to_runs_in_behind_leading_to_goal_per_match, count_pass_opportunities_to_dangerous_runs_in_behind_per_match, count_pass_attempts_to_dangerous_runs_in_behind_per_match, count_completed_pass_to_dangerous_runs_in_behind_per_match, count_opportunities_to_pass_to_runs_ahead_of_the_ball_per_match, count_pass_attempts_to_runs_ahead_of_the_ball_per_match, pass_opportunities_to_runs_ahead_of_the_ball_threat_per_match, runs_ahead_of_the_ball_to_which_pass_attempted_threat_per_match, pass_completion_ratio_to_runs_ahead_of_the_ball, count_runs_ahead_of_the_ball_by_teammate_per_match, runs_ahead_of_the_ball_to_which_pass_completed_threat_per_match, count_completed_pass_to_runs_ahead_of_the_ball_per_match, count_completed_pass_to_runs_ahead_of_the_ball_leading_to_shot_per_match, count_completed_pass_to_runs_ahead_of_the_ball_leading_to_goal_per_match, count_pass_opportunities_to_dangerous_runs_ahead_of_the_ball_per_match, count_pass_attempts_to_dangerous_runs_ahead_of_the_ball_per_match, count_completed_pass_to_dangerous_runs_ahead_of_the_ball_per_match, count_opportunities_to_pass_to_support_runs_per_match, count_pass_attempts_to_support_runs_per_match, pass_opportunities_to_support_runs_threat_per_match, support_runs_to_which_pass_attempted_threat_per_match, pass_completion_ratio_to_support_runs, count_support_runs_by_teammate_per_match, support_runs_to_which_pass_completed_threat_per_match, count_completed_pass_to_support_runs_per_match, count_completed_pass_to_support_runs_leading_to_shot_per_match, count_completed_pass_to_support_runs_leading_to_goal_per_match, count_pass_opportunities_to_dangerous_support_runs_per_match, count_pass_attempts_to_dangerous_support_runs_per_match, count_completed_pass_to_dangerous_support_runs_per_match, count_opportunities_to_pass_to_pulling_wide_runs_per_match, count_pass_attempts_to_pulling_wide_runs_per_match, pass_opportunities_to_pulling_wide_runs_threat_per_match, pulling_wide_runs_to_which_pass_attempted_threat_per_match, pass_completion_ratio_to_pulling_wide_runs, count_pulling_wide_runs_by_teammate_per_match, pulling_wide_runs_to_which_pass_completed_threat_per_match, count_completed_pass_to_pulling_wide_runs_per_match, count_completed_pass_to_pulling_wide_runs_leading_to_shot_per_match, count_completed_pass_to_pulling_wide_runs_leading_to_goal_per_match, count_pass_opportunities_to_dangerous_pulling_wide_runs_per_match, count_pass_attempts_to_dangerous_pulling_wide_runs_per_match, count_completed_pass_to_dangerous_pulling_wide_runs_per_match, count_opportunities_to_pass_to_coming_short_runs_per_match, count_pass_attempts_to_coming_short_runs_per_match, pass_opportunities_to_coming_short_runs_threat_per_match, coming_short_runs_to_which_pass_attempted_threat_per_match, pass_completion_ratio_to_coming_short_runs, count_coming_short_runs_by_teammate_per_match, coming_short_runs_to_which_pass_completed_threat_per_match, count_completed_pass_to_coming_short_runs_per_match, count_completed_pass_to_coming_short_runs_leading_to_shot_per_match, count_completed_pass_to_coming_short_runs_leading_to_goal_per_match, count_pass_opportunities_to_dangerous_coming_short_runs_per_match, count_pass_attempts_to_dangerous_coming_short_runs_per_match, count_completed_pass_to_dangerous_coming_short_runs_per_match, count_opportunities_to_pass_to_underlap_runs_per_match, count_pass_attempts_to_underlap_runs_per_match, pass_opportunities_to_underlap_runs_threat_per_match, underlap_runs_to_which_pass_attempted_threat_per_match, pass_completion_ratio_to_underlap_runs, count_underlap_runs_by_teammate_per_match, underlap_runs_to_which_pass_completed_threat_per_match, count_completed_pass_to_underlap_runs_per_match, count_completed_pass_to_underlap_runs_leading_to_shot_per_match, count_completed_pass_to_underlap_runs_leading_to_goal_per_match, count_pass_opportunities_to_dangerous_underlap_runs_per_match, count_pass_attempts_to_dangerous_underlap_runs_per_match, count_completed_pass_to_dangerous_underlap_runs_per_match, count_opportunities_to_pass_to_overlap_runs_per_match, count_pass_attempts_to_overlap_runs_per_match, pass_opportunities_to_overlap_runs_threat_per_match, overlap_runs_to_which_pass_attempted_threat_per_match, pass_completion_ratio_to_overlap_runs, count_overlap_runs_by_teammate_per_match, overlap_runs_to_which_pass_completed_threat_per_match, count_completed_pass_to_overlap_runs_per_match, count_completed_pass_to_overlap_runs_leading_to_shot_per_match, count_completed_pass_to_overlap_runs_leading_to_goal_per_match, count_pass_opportunities_to_dangerous_overlap_runs_per_match, count_pass_attempts_to_dangerous_overlap_runs_per_match, count_completed_pass_to_dangerous_overlap_runs_per_match, count_opportunities_to_pass_to_dropping_off_runs_per_match, count_pass_attempts_to_dropping_off_runs_per_match, pass_opportunities_to_dropping_off_runs_threat_per_match, dropping_off_runs_to_which_pass_attempted_threat_per_match, pass_completion_ratio_to_dropping_off_runs, count_dropping_off_runs_by_teammate_per_match, dropping_off_runs_to_which_pass_completed_threat_per_match, count_completed_pass_to_dropping_off_runs_per_match, count_completed_pass_to_dropping_off_runs_leading_to_shot_per_match, ...]\n",
       "Index: []\n",
       "\n",
       "[0 rows x 130 columns]"
      ]
     },
     "execution_count": 92,
     "metadata": {},
     "output_type": "execute_result"
    }
   ],
   "source": [
    "data[~(data.index.get_level_values(\"team_name\").isin(dico[\"ranking\"]))]"
   ]
  }
 ],
 "metadata": {
  "kernelspec": {
   "display_name": "env",
   "language": "python",
   "name": "python3"
  },
  "language_info": {
   "codemirror_mode": {
    "name": "ipython",
    "version": 3
   },
   "file_extension": ".py",
   "mimetype": "text/x-python",
   "name": "python",
   "nbconvert_exporter": "python",
   "pygments_lexer": "ipython3",
   "version": "3.12.4"
  }
 },
 "nbformat": 4,
 "nbformat_minor": 2
}
