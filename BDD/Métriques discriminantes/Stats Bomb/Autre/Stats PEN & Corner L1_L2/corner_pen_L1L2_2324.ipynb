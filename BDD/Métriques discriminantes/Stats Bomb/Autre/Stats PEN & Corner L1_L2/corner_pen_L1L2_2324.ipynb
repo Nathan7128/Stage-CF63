{
 "cells": [
  {
   "cell_type": "code",
   "execution_count": 1,
   "metadata": {},
   "outputs": [],
   "source": [
    "from statsbombpy import sb\n",
    "\n",
    "import pandas as pd\n",
    "\n",
    "import numpy as np\n",
    "\n",
    "import os"
   ]
  },
  {
   "cell_type": "code",
   "execution_count": 2,
   "metadata": {},
   "outputs": [],
   "source": [
    "import warnings\n",
    "warnings.filterwarnings(\"ignore\")\n",
    "email = \"nathan.talbot@etu.uca.fr\"\n",
    "password = os.environ[\"mdp_statsbomb\"]\n",
    "creds = {\"user\" : email, \"passwd\" : password}"
   ]
  },
  {
   "cell_type": "code",
   "execution_count": 3,
   "metadata": {},
   "outputs": [],
   "source": [
    "L1_id = 7\n",
    "L2_id = 8\n",
    "season2324_id = 281"
   ]
  },
  {
   "cell_type": "code",
   "execution_count": 4,
   "metadata": {},
   "outputs": [],
   "source": [
    "L1_teamstat_import = sb.team_season_stats(L1_id, season2324_id, creds = creds)\n",
    "L2_teamstat_import = sb.team_season_stats(L2_id, season2324_id, creds = creds)"
   ]
  },
  {
   "cell_type": "code",
   "execution_count": 5,
   "metadata": {},
   "outputs": [],
   "source": [
    "index = [\"Ligue 1\", \"Ligue 2\"]\n",
    "columns = [\"Total PEN sur la saison\", \"Ratio PEN par équipe et par match\", \"Total CORNER sur la saison\", \"Ratio CORNER par équipe et par match\"]\n",
    "df = pd.DataFrame(0.0, index = index, columns = columns)"
   ]
  },
  {
   "cell_type": "code",
   "execution_count": 6,
   "metadata": {},
   "outputs": [],
   "source": [
    "df.iloc[0, 0] = (L1_teamstat_import.team_season_penalties_won_pg*L1_teamstat_import.team_season_matches).sum(axis = 0)\n",
    "df.iloc[0, 1] = (L1_teamstat_import.team_season_penalties_won_pg).mean(axis = 0)\n",
    "df.iloc[1, 0] = (L2_teamstat_import.team_season_penalties_won_pg*L2_teamstat_import.team_season_matches).sum(axis = 0)\n",
    "df.iloc[1, 1] = (L2_teamstat_import.team_season_penalties_won_pg).mean(axis = 0)"
   ]
  },
  {
   "cell_type": "code",
   "execution_count": 7,
   "metadata": {},
   "outputs": [],
   "source": [
    "df.iloc[0, 2] = (L1_teamstat_import.team_season_corners_pg*L1_teamstat_import.team_season_matches).sum(axis = 0)\n",
    "df.iloc[0, 3] = (L1_teamstat_import.team_season_corners_pg).mean(axis = 0)\n",
    "df.iloc[1, 2] = (L2_teamstat_import.team_season_corners_pg*L2_teamstat_import.team_season_matches).sum(axis = 0)\n",
    "df.iloc[1, 3] = (L2_teamstat_import.team_season_corners_pg).mean(axis = 0)"
   ]
  },
  {
   "cell_type": "code",
   "execution_count": 9,
   "metadata": {},
   "outputs": [],
   "source": [
    "df.to_excel(\"PEN_CORNER_L1_L2.xlsx\", index = True, header = True)"
   ]
  }
 ],
 "metadata": {
  "kernelspec": {
   "display_name": "env",
   "language": "python",
   "name": "python3"
  },
  "language_info": {
   "codemirror_mode": {
    "name": "ipython",
    "version": 3
   },
   "file_extension": ".py",
   "mimetype": "text/x-python",
   "name": "python",
   "nbconvert_exporter": "python",
   "pygments_lexer": "ipython3",
   "version": "3.12.4"
  }
 },
 "nbformat": 4,
 "nbformat_minor": 2
}
