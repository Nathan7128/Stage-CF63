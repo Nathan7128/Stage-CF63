{
 "cells": [
  {
   "cell_type": "code",
   "execution_count": 3,
   "metadata": {},
   "outputs": [],
   "source": [
    "from statsbombpy import sb\n",
    "import os\n",
    "import pandas as pd\n",
    "import sqlite3\n",
    "import warnings\n",
    "\n",
    "warnings.filterwarnings(\"ignore\")\n",
    "\n",
    "connect = sqlite3.connect(\"../../raw-database.db\")\n",
    "\n",
    "email = \"nathan.talbot@etu.uca.fr\"\n",
    "password = os.environ[\"mdp_statsbomb\"]\n",
    "creds = {\"user\" : email, \"passwd\" : password}\n",
    "\n",
    "liste_saison = [\"2023/2024\", \"2022/2023\", \"2021/2022\", \"2020/2021\"]\n",
    "\n",
    "data = pd.concat([sb.competition_events(country = \"France\", division = \"Ligue 2\", season = saison, gender = \"male\", creds = creds)\n",
    "                for saison in liste_saison])"
   ]
  },
  {
   "cell_type": "code",
   "execution_count": 4,
   "metadata": {},
   "outputs": [],
   "source": [
    "colonnes = [\"shot_type\", \"shot_outcome\", \"type\", \"match_id\", \"period\", \"possession\", \"location\", \"team\", \"pass_cross\", \"pass_type\", \"index\",\n",
    "            \"pass_end_location\", \"minute\", \"player\", \"shot_end_location\", \"pass_body_part\"]\n",
    "\n",
    "df = data[colonnes].reset_index().rename({\"index\" : \"index_event\"}, axis = 1)\n",
    "\n",
    "df_loc = df.pop(\"location\").dropna()\n",
    "df_loc = pd.DataFrame(df_loc.tolist(), index = df_loc.index, columns = [\"x_loc\", \"y_loc\", \"z_loc\"])\n",
    "\n",
    "df_pass_loc = df.pop(\"pass_end_location\").dropna()\n",
    "df_pass_loc = pd.DataFrame(df_pass_loc.tolist(), index = df_pass_loc.index, columns = [\"x_pass\", \"y_pass\"])\n",
    "\n",
    "df_shot_loc = df.pop(\"shot_end_location\").dropna()\n",
    "df_shot_loc = pd.DataFrame(df_shot_loc.tolist(), index = df_shot_loc.index, columns = [\"x_shot\", \"y_shot\", \"z_shot\"])\n",
    "\n",
    "df = pd.concat([df, df_loc, df_pass_loc, df_shot_loc], axis = 1)\n",
    "\n",
    "df.to_sql(name = \"raw_data_heatmap\", con = connect, if_exists = \"replace\", index = False)\n",
    "\n",
    "connect.close()"
   ]
  }
 ],
 "metadata": {
  "kernelspec": {
   "display_name": "env",
   "language": "python",
   "name": "python3"
  },
  "language_info": {
   "codemirror_mode": {
    "name": "ipython",
    "version": 3
   },
   "file_extension": ".py",
   "mimetype": "text/x-python",
   "name": "python",
   "nbconvert_exporter": "python",
   "pygments_lexer": "ipython3",
   "version": "3.12.6"
  }
 },
 "nbformat": 4,
 "nbformat_minor": 2
}
