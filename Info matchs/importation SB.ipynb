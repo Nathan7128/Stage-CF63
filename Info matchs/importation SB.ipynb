{
 "cells": [
  {
   "cell_type": "code",
   "execution_count": 1,
   "metadata": {},
   "outputs": [],
   "source": [
    "from statsbombpy import sb\n",
    "\n",
    "import os\n",
    "\n",
    "import pandas as pd\n",
    "\n",
    "import warnings\n",
    "warnings.filterwarnings(\"ignore\")\n",
    "\n",
    "email = \"nathan.talbot@etu.uca.fr\"\n",
    "password = os.environ[\"mdp_statsbomb\"]\n",
    "creds = {\"user\" : email, \"passwd\" : password}"
   ]
  },
  {
   "cell_type": "code",
   "execution_count": 2,
   "metadata": {},
   "outputs": [],
   "source": [
    "dico_saison = {\n",
    "    \"2023_2024\" : 281,\n",
    "    \"2022_2023\" : 235,\n",
    "    \"2021_2022\" : 108,\n",
    "    \"2020_2021\" : 90\n",
    "}\n",
    "ligue2_id = 8"
   ]
  },
  {
   "cell_type": "code",
   "execution_count": 6,
   "metadata": {},
   "outputs": [],
   "source": [
    "for saison in dico_saison.keys() :\n",
    "    data_import = sb.matches(ligue2_id, dico_saison[saison], creds = creds)\n",
    "    data_import.loc[data_import[\"away_score\"] > data_import[\"home_score\"], \"Résultat\"] = data_import.loc[data_import[\"away_score\"] > data_import[\"home_score\"], \"away_team\"]\n",
    "    data_import.loc[data_import[\"home_score\"] > data_import[\"away_score\"], \"Résultat\"] = data_import.loc[data_import[\"home_score\"] > data_import[\"away_score\"], \"home_team\"]\n",
    "    data_import.to_excel(f\"Stats Bomb/{saison}.xlsx\")"
   ]
  }
 ],
 "metadata": {
  "kernelspec": {
   "display_name": "env",
   "language": "python",
   "name": "python3"
  },
  "language_info": {
   "codemirror_mode": {
    "name": "ipython",
    "version": 3
   },
   "file_extension": ".py",
   "mimetype": "text/x-python",
   "name": "python",
   "nbconvert_exporter": "python",
   "pygments_lexer": "ipython3",
   "version": "3.12.4"
  }
 },
 "nbformat": 4,
 "nbformat_minor": 2
}
