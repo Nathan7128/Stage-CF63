{
 "cells": [
  {
   "cell_type": "code",
   "execution_count": 1,
   "metadata": {},
   "outputs": [],
   "source": [
    "from skillcorner.client import SkillcornerClient\n",
    "\n",
    "import pandas as pd\n",
    "\n",
    "import numpy as np\n",
    "\n",
    "import os\n",
    "\n",
    "secret_password = os.getenv(\"mdp_skillcorner\")\n",
    "client = SkillcornerClient(username = \"Nathan.talbot@etu.uca.fr\", password = secret_password)"
   ]
  },
  {
   "cell_type": "code",
   "execution_count": 14,
   "metadata": {},
   "outputs": [],
   "source": [
    "data_import1 = client.get_physical(params = {\"data_version\" : 3, 'competition_edition': 549, \"average_per\" : \"p30otip\",\n",
    "                                            \"possession\" : \"otip\", \"physical_check_passed\" : \"true\"})"
   ]
  },
  {
   "cell_type": "code",
   "execution_count": 12,
   "metadata": {},
   "outputs": [],
   "source": [
    "data_import2 = client.get_physical(params = {\"data_version\" : 3, 'competition_edition': 549, \"average_per\" : \"p30tip\", \"possession\" : \"tip\",\n",
    "                                             \"physical_check_passed\" : \"true\"})"
   ]
  },
  {
   "cell_type": "code",
   "execution_count": 16,
   "metadata": {},
   "outputs": [],
   "source": [
    "data_import3 = client.get_physical(params = {\"data_version\" : 3, 'competition_edition': 549, \"physical_check_passed\" : \"true\"})"
   ]
  },
  {
   "cell_type": "code",
   "execution_count": 17,
   "metadata": {},
   "outputs": [],
   "source": [
    "data1 = pd.DataFrame(data_import1)\n",
    "data2 = pd.DataFrame(data_import2)\n",
    "data3 = pd.DataFrame(data_import3)"
   ]
  },
  {
   "cell_type": "code",
   "execution_count": 34,
   "metadata": {},
   "outputs": [],
   "source": [
    "data4 = data3.merge(data2, on = ['player_name', 'player_short_name', 'player_id', 'player_birthdate', 'team_name', 'team_id', 'match_name', 'match_id', 'match_date', 'competition_name', 'competition_id', 'season_name', 'season_id', 'competition_edition_id', 'position', 'position_group', 'physical_check_passed'])"
   ]
  },
  {
   "cell_type": "code",
   "execution_count": 35,
   "metadata": {},
   "outputs": [],
   "source": [
    "data4.to_excel(\"test.xlsx\")"
   ]
  }
 ],
 "metadata": {
  "kernelspec": {
   "display_name": "env",
   "language": "python",
   "name": "python3"
  },
  "language_info": {
   "codemirror_mode": {
    "name": "ipython",
    "version": 3
   },
   "file_extension": ".py",
   "mimetype": "text/x-python",
   "name": "python",
   "nbconvert_exporter": "python",
   "pygments_lexer": "ipython3",
   "version": "3.12.4"
  }
 },
 "nbformat": 4,
 "nbformat_minor": 2
}
