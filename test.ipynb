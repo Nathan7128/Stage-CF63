{
 "cells": [
  {
   "cell_type": "code",
   "execution_count": 1,
   "metadata": {},
   "outputs": [],
   "source": [
    "from statsbombpy import sb\n",
    "\n",
    "import os\n",
    "\n",
    "import pandas as pd\n",
    "\n",
    "import warnings\n",
    "warnings.filterwarnings(\"ignore\")\n",
    "\n",
    "email = \"nathan.talbot@etu.uca.fr\"\n",
    "password = os.environ[\"mdp_statsbomb\"]\n",
    "creds = {\"user\" : email, \"passwd\" : password}"
   ]
  },
  {
   "cell_type": "code",
   "execution_count": 3,
   "metadata": {},
   "outputs": [],
   "source": [
    "cmpet = sb.competitions(creds = creds)"
   ]
  },
  {
   "cell_type": "code",
   "execution_count": 5,
   "metadata": {},
   "outputs": [
    {
     "data": {
      "text/html": [
       "<div>\n",
       "<style scoped>\n",
       "    .dataframe tbody tr th:only-of-type {\n",
       "        vertical-align: middle;\n",
       "    }\n",
       "\n",
       "    .dataframe tbody tr th {\n",
       "        vertical-align: top;\n",
       "    }\n",
       "\n",
       "    .dataframe thead th {\n",
       "        text-align: right;\n",
       "    }\n",
       "</style>\n",
       "<table border=\"1\" class=\"dataframe\">\n",
       "  <thead>\n",
       "    <tr style=\"text-align: right;\">\n",
       "      <th></th>\n",
       "      <th>competition_id</th>\n",
       "      <th>season_id</th>\n",
       "      <th>country_name</th>\n",
       "      <th>competition_name</th>\n",
       "      <th>competition_gender</th>\n",
       "      <th>competition_youth</th>\n",
       "      <th>competition_international</th>\n",
       "      <th>season_name</th>\n",
       "      <th>match_updated</th>\n",
       "      <th>match_updated_360</th>\n",
       "      <th>match_available_360</th>\n",
       "      <th>match_available</th>\n",
       "    </tr>\n",
       "  </thead>\n",
       "  <tbody>\n",
       "    <tr>\n",
       "      <th>48</th>\n",
       "      <td>8</td>\n",
       "      <td>281</td>\n",
       "      <td>France</td>\n",
       "      <td>Ligue 2</td>\n",
       "      <td>male</td>\n",
       "      <td>False</td>\n",
       "      <td>False</td>\n",
       "      <td>2023/2024</td>\n",
       "      <td>2024-06-15T21:47:35.765201</td>\n",
       "      <td>2024-07-09T12:40:17.906144</td>\n",
       "      <td>2024-07-09T12:40:17.906144</td>\n",
       "      <td>2024-06-15T21:47:35.765201</td>\n",
       "    </tr>\n",
       "    <tr>\n",
       "      <th>49</th>\n",
       "      <td>8</td>\n",
       "      <td>235</td>\n",
       "      <td>France</td>\n",
       "      <td>Ligue 2</td>\n",
       "      <td>male</td>\n",
       "      <td>False</td>\n",
       "      <td>False</td>\n",
       "      <td>2022/2023</td>\n",
       "      <td>2024-03-29T17:05:56.986423</td>\n",
       "      <td>2024-06-11T09:09:20.548934</td>\n",
       "      <td>2024-06-11T09:09:20.548934</td>\n",
       "      <td>2024-03-29T17:05:56.986423</td>\n",
       "    </tr>\n",
       "    <tr>\n",
       "      <th>50</th>\n",
       "      <td>8</td>\n",
       "      <td>108</td>\n",
       "      <td>France</td>\n",
       "      <td>Ligue 2</td>\n",
       "      <td>male</td>\n",
       "      <td>False</td>\n",
       "      <td>False</td>\n",
       "      <td>2021/2022</td>\n",
       "      <td>2024-06-12T22:24:59.036894</td>\n",
       "      <td>2024-06-12T22:25:53.057195</td>\n",
       "      <td>2024-06-12T22:25:53.057195</td>\n",
       "      <td>2024-06-12T22:24:59.036894</td>\n",
       "    </tr>\n",
       "    <tr>\n",
       "      <th>51</th>\n",
       "      <td>8</td>\n",
       "      <td>90</td>\n",
       "      <td>France</td>\n",
       "      <td>Ligue 2</td>\n",
       "      <td>male</td>\n",
       "      <td>False</td>\n",
       "      <td>False</td>\n",
       "      <td>2020/2021</td>\n",
       "      <td>2024-06-25T09:39:53.886416</td>\n",
       "      <td>2024-06-25T09:45:50.084168</td>\n",
       "      <td>2024-06-25T09:45:50.084168</td>\n",
       "      <td>2024-06-25T09:39:53.886416</td>\n",
       "    </tr>\n",
       "  </tbody>\n",
       "</table>\n",
       "</div>"
      ],
      "text/plain": [
       "    competition_id  season_id country_name competition_name  \\\n",
       "48               8        281       France          Ligue 2   \n",
       "49               8        235       France          Ligue 2   \n",
       "50               8        108       France          Ligue 2   \n",
       "51               8         90       France          Ligue 2   \n",
       "\n",
       "   competition_gender  competition_youth  competition_international  \\\n",
       "48               male              False                      False   \n",
       "49               male              False                      False   \n",
       "50               male              False                      False   \n",
       "51               male              False                      False   \n",
       "\n",
       "   season_name               match_updated           match_updated_360  \\\n",
       "48   2023/2024  2024-06-15T21:47:35.765201  2024-07-09T12:40:17.906144   \n",
       "49   2022/2023  2024-03-29T17:05:56.986423  2024-06-11T09:09:20.548934   \n",
       "50   2021/2022  2024-06-12T22:24:59.036894  2024-06-12T22:25:53.057195   \n",
       "51   2020/2021  2024-06-25T09:39:53.886416  2024-06-25T09:45:50.084168   \n",
       "\n",
       "           match_available_360             match_available  \n",
       "48  2024-07-09T12:40:17.906144  2024-06-15T21:47:35.765201  \n",
       "49  2024-06-11T09:09:20.548934  2024-03-29T17:05:56.986423  \n",
       "50  2024-06-12T22:25:53.057195  2024-06-12T22:24:59.036894  \n",
       "51  2024-06-25T09:45:50.084168  2024-06-25T09:39:53.886416  "
      ]
     },
     "execution_count": 5,
     "metadata": {},
     "output_type": "execute_result"
    }
   ],
   "source": [
    "cmpet[cmpet.competition_name == \"Ligue 2\"]"
   ]
  },
  {
   "cell_type": "code",
   "execution_count": 11,
   "metadata": {},
   "outputs": [],
   "source": [
    "events = sb.competition_events(country = \"France\", division = \"Ligue 2\", season = \"2023/2024\", gender = \"male\", creds = creds)"
   ]
  },
  {
   "cell_type": "code",
   "execution_count": 2,
   "metadata": {},
   "outputs": [
    {
     "name": "stdout",
     "output_type": "stream",
     "text": [
      "2023_2024\n"
     ]
    }
   ],
   "source": [
    "dico_annee = {\"2023_2024\" : \"2023/2024\", \"2022_2023\" : \"2022/2023\", \"2021_2022\" : \"2021/2022\", \"2020_2021\" : \"2020/2021\"}\n",
    "\n",
    "for annee in dico_annee.keys() :\n",
    "    print(annee)\n",
    "    events = sb.competition_events(country = \"France\", division = \"Ligue 2\", season = dico_annee[annee], gender = \"male\", creds = creds)"
   ]
  },
  {
   "cell_type": "code",
   "execution_count": 15,
   "metadata": {},
   "outputs": [],
   "source": [
    "events_grouped = sb.competition_events(country = \"France\", division = \"Ligue 2\", season = \"2023/2024\", gender = \"male\", split = True, creds = creds)"
   ]
  }
 ],
 "metadata": {
  "kernelspec": {
   "display_name": "env",
   "language": "python",
   "name": "python3"
  },
  "language_info": {
   "codemirror_mode": {
    "name": "ipython",
    "version": 3
   },
   "file_extension": ".py",
   "mimetype": "text/x-python",
   "name": "python",
   "nbconvert_exporter": "python",
   "pygments_lexer": "ipython3",
   "version": "3.12.4"
  }
 },
 "nbformat": 4,
 "nbformat_minor": 2
}
