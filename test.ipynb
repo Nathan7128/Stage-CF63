{
 "cells": [
  {
   "cell_type": "code",
   "execution_count": 1,
   "metadata": {},
   "outputs": [],
   "source": [
    "import pandas as pd\n",
    "\n",
    "info_match = pd.read_excel(\"Info matchs/Stats Bomb/2023_2024.xlsx\", index_col = 0)"
   ]
  },
  {
   "cell_type": "code",
   "execution_count": 2,
   "metadata": {},
   "outputs": [],
   "source": [
    "dico_team = {True : \"away_team\", False : \"home_team\"}"
   ]
  },
  {
   "cell_type": "code",
   "execution_count": 26,
   "metadata": {},
   "outputs": [
    {
     "name": "stderr",
     "output_type": "stream",
     "text": [
      "C:\\Users\\fabie\\AppData\\Local\\Temp\\ipykernel_22988\\1845493160.py:2: SettingWithCopyWarning: \n",
      "A value is trying to be set on a copy of a slice from a DataFrame.\n",
      "Try using .loc[row_indexer,col_indexer] = value instead\n",
      "\n",
      "See the caveats in the documentation: https://pandas.pydata.org/pandas-docs/stable/user_guide/indexing.html#returning-a-view-versus-a-copy\n",
      "  df[\"Résultat\"] = df[[\"home_score\", \"away_score\"]].idxmax(axis = 1)\n"
     ]
    }
   ],
   "source": [
    "df = info_match[[\"home_team\", \"away_team\", \"home_score\", \"away_score\"]]\n",
    "df[\"Résultat\"] = df[[\"home_score\", \"away_score\"]].idxmax(axis = 1)\n",
    "df.loc[df.away_score == df.home_score, \"Résultat\"] = \"Match nul\"\n",
    "df.loc[df[\"Résultat\"] == \"away_score\", \"Résultat\"] = df.loc[df[\"Résultat\"] == \"away_score\", \"away_team\"]\n",
    "df.loc[df[\"Résultat\"] == \"home_score\", \"Résultat\"] = df.loc[df[\"Résultat\"] == \"home_score\", \"home_team\"]"
   ]
  },
  {
   "cell_type": "code",
   "execution_count": 6,
   "metadata": {},
   "outputs": [
    {
     "name": "stderr",
     "output_type": "stream",
     "text": [
      "C:\\Users\\fabie\\AppData\\Local\\Temp\\ipykernel_28384\\2059434198.py:2: SettingWithCopyWarning: \n",
      "A value is trying to be set on a copy of a slice from a DataFrame.\n",
      "Try using .loc[row_indexer,col_indexer] = value instead\n",
      "\n",
      "See the caveats in the documentation: https://pandas.pydata.org/pandas-docs/stable/user_guide/indexing.html#returning-a-view-versus-a-copy\n",
      "  df2.loc[df2[\"away_score\"] > df2[\"home_score\"], \"Résultat\"] = df2.loc[df2[\"away_score\"] > df2[\"home_score\"], \"away_team\"]\n"
     ]
    }
   ],
   "source": [
    "df2 = info_match[[\"home_team\", \"away_team\", \"home_score\", \"away_score\"]]\n",
    "df2.loc[df2[\"away_score\"] > df2[\"home_score\"], \"Résultat\"] = df2.loc[df2[\"away_score\"] > df2[\"home_score\"], \"away_team\"]\n",
    "df2.loc[df2[\"home_score\"] > df2[\"away_score\"], \"Résultat\"] = df2.loc[df2[\"home_score\"] > df2[\"away_score\"], \"home_team\"]\n"
   ]
  },
  {
   "cell_type": "code",
   "execution_count": 7,
   "metadata": {},
   "outputs": [
    {
     "data": {
      "text/html": [
       "<div>\n",
       "<style scoped>\n",
       "    .dataframe tbody tr th:only-of-type {\n",
       "        vertical-align: middle;\n",
       "    }\n",
       "\n",
       "    .dataframe tbody tr th {\n",
       "        vertical-align: top;\n",
       "    }\n",
       "\n",
       "    .dataframe thead th {\n",
       "        text-align: right;\n",
       "    }\n",
       "</style>\n",
       "<table border=\"1\" class=\"dataframe\">\n",
       "  <thead>\n",
       "    <tr style=\"text-align: right;\">\n",
       "      <th></th>\n",
       "      <th>home_team</th>\n",
       "      <th>away_team</th>\n",
       "      <th>home_score</th>\n",
       "      <th>away_score</th>\n",
       "      <th>Résultat</th>\n",
       "    </tr>\n",
       "  </thead>\n",
       "  <tbody>\n",
       "    <tr>\n",
       "      <th>0</th>\n",
       "      <td>Auxerre</td>\n",
       "      <td>Dunkerque</td>\n",
       "      <td>0</td>\n",
       "      <td>1</td>\n",
       "      <td>Dunkerque</td>\n",
       "    </tr>\n",
       "    <tr>\n",
       "      <th>1</th>\n",
       "      <td>Rodez</td>\n",
       "      <td>Paris FC</td>\n",
       "      <td>2</td>\n",
       "      <td>2</td>\n",
       "      <td>NaN</td>\n",
       "    </tr>\n",
       "    <tr>\n",
       "      <th>2</th>\n",
       "      <td>Saint-Étienne</td>\n",
       "      <td>Rodez</td>\n",
       "      <td>2</td>\n",
       "      <td>0</td>\n",
       "      <td>Saint-Étienne</td>\n",
       "    </tr>\n",
       "    <tr>\n",
       "      <th>3</th>\n",
       "      <td>Valenciennes</td>\n",
       "      <td>Quevilly Rouen</td>\n",
       "      <td>2</td>\n",
       "      <td>1</td>\n",
       "      <td>Valenciennes</td>\n",
       "    </tr>\n",
       "    <tr>\n",
       "      <th>4</th>\n",
       "      <td>Rodez</td>\n",
       "      <td>Concarneau</td>\n",
       "      <td>2</td>\n",
       "      <td>0</td>\n",
       "      <td>Rodez</td>\n",
       "    </tr>\n",
       "    <tr>\n",
       "      <th>...</th>\n",
       "      <td>...</td>\n",
       "      <td>...</td>\n",
       "      <td>...</td>\n",
       "      <td>...</td>\n",
       "      <td>...</td>\n",
       "    </tr>\n",
       "    <tr>\n",
       "      <th>377</th>\n",
       "      <td>Grenoble Foot</td>\n",
       "      <td>Paris FC</td>\n",
       "      <td>2</td>\n",
       "      <td>0</td>\n",
       "      <td>Grenoble Foot</td>\n",
       "    </tr>\n",
       "    <tr>\n",
       "      <th>378</th>\n",
       "      <td>Guingamp</td>\n",
       "      <td>Dunkerque</td>\n",
       "      <td>0</td>\n",
       "      <td>1</td>\n",
       "      <td>Dunkerque</td>\n",
       "    </tr>\n",
       "    <tr>\n",
       "      <th>379</th>\n",
       "      <td>Caen</td>\n",
       "      <td>Pau</td>\n",
       "      <td>2</td>\n",
       "      <td>0</td>\n",
       "      <td>Caen</td>\n",
       "    </tr>\n",
       "    <tr>\n",
       "      <th>380</th>\n",
       "      <td>Auxerre</td>\n",
       "      <td>Amiens</td>\n",
       "      <td>0</td>\n",
       "      <td>1</td>\n",
       "      <td>Amiens</td>\n",
       "    </tr>\n",
       "    <tr>\n",
       "      <th>381</th>\n",
       "      <td>Bastia</td>\n",
       "      <td>Valenciennes</td>\n",
       "      <td>3</td>\n",
       "      <td>0</td>\n",
       "      <td>Bastia</td>\n",
       "    </tr>\n",
       "  </tbody>\n",
       "</table>\n",
       "<p>382 rows × 5 columns</p>\n",
       "</div>"
      ],
      "text/plain": [
       "         home_team       away_team  home_score  away_score       Résultat\n",
       "0          Auxerre       Dunkerque           0           1      Dunkerque\n",
       "1            Rodez        Paris FC           2           2            NaN\n",
       "2    Saint-Étienne           Rodez           2           0  Saint-Étienne\n",
       "3     Valenciennes  Quevilly Rouen           2           1   Valenciennes\n",
       "4            Rodez      Concarneau           2           0          Rodez\n",
       "..             ...             ...         ...         ...            ...\n",
       "377  Grenoble Foot        Paris FC           2           0  Grenoble Foot\n",
       "378       Guingamp       Dunkerque           0           1      Dunkerque\n",
       "379           Caen             Pau           2           0           Caen\n",
       "380        Auxerre          Amiens           0           1         Amiens\n",
       "381         Bastia    Valenciennes           3           0         Bastia\n",
       "\n",
       "[382 rows x 5 columns]"
      ]
     },
     "execution_count": 7,
     "metadata": {},
     "output_type": "execute_result"
    }
   ],
   "source": [
    "df2"
   ]
  }
 ],
 "metadata": {
  "kernelspec": {
   "display_name": "env",
   "language": "python",
   "name": "python3"
  },
  "language_info": {
   "codemirror_mode": {
    "name": "ipython",
    "version": 3
   },
   "file_extension": ".py",
   "mimetype": "text/x-python",
   "name": "python",
   "nbconvert_exporter": "python",
   "pygments_lexer": "ipython3",
   "version": "3.12.4"
  }
 },
 "nbformat": 4,
 "nbformat_minor": 2
}
