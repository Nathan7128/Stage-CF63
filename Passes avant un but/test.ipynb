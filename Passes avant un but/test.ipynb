{
 "cells": [
  {
   "cell_type": "code",
   "execution_count": 14,
   "metadata": {},
   "outputs": [],
   "source": [
    "from statsbombpy import sb\n",
    "\n",
    "import os\n",
    "\n",
    "import pandas as pd\n",
    "\n",
    "import numpy as np\n",
    "\n",
    "import warnings\n",
    "warnings.filterwarnings(\"ignore\")\n",
    "\n",
    "email = \"nathan.talbot@etu.uca.fr\"\n",
    "password = os.environ[\"mdp_statsbomb\"]\n",
    "creds = {\"user\" : email, \"passwd\" : password}"
   ]
  },
  {
   "cell_type": "code",
   "execution_count": 17,
   "metadata": {},
   "outputs": [],
   "source": [
    "df = pd.DataFrame(0.0, index = [\"nb_but\", \"nb_passe\"], columns = [\"Top 5\", \"Bottom 15\"])\n",
    "df_final = pd.DataFrame(columns = [\"Top 5\", \"Bottom 15\", \"Total\"])\n",
    "annee = \"2023_2024\"\n",
    "top5 = [\"Auxerre\", \"Angers\", \"Saint-Étienne\", \"Rodez\", \"Paris FC\"]\n",
    "liste_match = pd.read_excel(f\"data/event_match_ligue2/2023_2024/liste_match.xlsx\", index_col=0).squeeze()"
   ]
  },
  {
   "cell_type": "code",
   "execution_count": 22,
   "metadata": {},
   "outputs": [],
   "source": [
    "for match_id in liste_match :\n",
    "    event = pd.read_excel(f\"data/event_match_ligue2/{annee}/{match_id}.xlsx\", index_col=0)\n",
    "    goal = event[event.shot_outcome == \"Goal\"]\n",
    "    goal_top5 = pd.DataFrame()\n",
    "    goal_bottom15 = pd.DataFrame()\n",
    "    passe_top5 = pd.DataFrame()\n",
    "    passe_bottom5 = pd.DataFrame()\n",
    "    goal_top5 = goal[goal.possession_team.isin(top5)]\n",
    "    goal_bottom15 = goal[~goal.possession_team.isin(top5)]\n",
    "    df.loc[\"nb_but\", \"Top 5\"] += len(goal_top5)\n",
    "    df.loc[\"nb_but\", \"Bottom 15\"] += len(goal_bottom15)\n",
    "#     for poss in goal_top5.possession :\n",
    "#         passe_top5 = len(event[(event.possession == poss) & (event.type == \"Pass\")])\n",
    "#         df.loc[\"nb_passe\", \"Top 5\"] += len(passe_top5)\n",
    "#     for poss in goal_bottom15.possession :\n",
    "#         passe_bottom15 = len(event[(event.possession == poss) & (event.type == \"Pass\")])\n",
    "#         df.loc[\"nb_passe\", \"Bottom 15\"] += len(passe_bottom15)\n",
    "    break\n",
    "# df[\"Total\"] = df.sum(axis = 0)\n",
    "# df_final.loc[annee] = df.loc[\"nb_passe\"]/df.loc[\"nb_but\"]"
   ]
  },
  {
   "cell_type": "code",
   "execution_count": 26,
   "metadata": {},
   "outputs": [
    {
     "data": {
      "text/plain": [
       "pandas.core.frame.DataFrame"
      ]
     },
     "execution_count": 26,
     "metadata": {},
     "output_type": "execute_result"
    }
   ],
   "source": [
    "type(goal_bottom15)"
   ]
  }
 ],
 "metadata": {
  "kernelspec": {
   "display_name": "env",
   "language": "python",
   "name": "python3"
  },
  "language_info": {
   "codemirror_mode": {
    "name": "ipython",
    "version": 3
   },
   "file_extension": ".py",
   "mimetype": "text/x-python",
   "name": "python",
   "nbconvert_exporter": "python",
   "pygments_lexer": "ipython3",
   "version": "3.12.4"
  }
 },
 "nbformat": 4,
 "nbformat_minor": 2
}
