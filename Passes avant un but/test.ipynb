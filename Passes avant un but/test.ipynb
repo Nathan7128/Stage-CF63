{
 "cells": [
  {
   "cell_type": "code",
   "execution_count": 2,
   "metadata": {},
   "outputs": [],
   "source": [
    "from statsbombpy import sb\n",
    "\n",
    "import os\n",
    "\n",
    "import pandas as pd\n",
    "\n",
    "import numpy as np\n",
    "\n",
    "import warnings\n",
    "warnings.filterwarnings(\"ignore\")\n",
    "\n",
    "email = \"nathan.talbot@etu.uca.fr\"\n",
    "password = os.environ[\"mdp_statsbomb\"]\n",
    "creds = {\"user\" : email, \"passwd\" : password}"
   ]
  },
  {
   "cell_type": "code",
   "execution_count": 12,
   "metadata": {},
   "outputs": [],
   "source": [
    "liste_annee = [\"2023_2024\", \"2022_2023\", \"2021_2022\", \"2020_2021\"]"
   ]
  },
  {
   "cell_type": "code",
   "execution_count": 13,
   "metadata": {},
   "outputs": [
    {
     "data": {
      "text/plain": [
       "MultiIndex([('2023_2024',     'Top 5'),\n",
       "            ('2023_2024', 'Bottom 15'),\n",
       "            ('2022_2023',     'Top 5'),\n",
       "            ('2022_2023', 'Bottom 15'),\n",
       "            ('2021_2022',     'Top 5'),\n",
       "            ('2021_2022', 'Bottom 15'),\n",
       "            ('2020_2021',     'Top 5'),\n",
       "            ('2020_2021', 'Bottom 15')],\n",
       "           names=['Année', 'Classement'])"
      ]
     },
     "execution_count": 13,
     "metadata": {},
     "output_type": "execute_result"
    }
   ],
   "source": [
    "multi = [liste_annee, [\"Top 5\", \"Bottom 15\"]]\n",
    "multi = pd.MultiIndex.from_product(multi, names = [\"Année\", \"Classement\"])\n",
    "multi"
   ]
  }
 ],
 "metadata": {
  "kernelspec": {
   "display_name": "env",
   "language": "python",
   "name": "python3"
  },
  "language_info": {
   "codemirror_mode": {
    "name": "ipython",
    "version": 3
   },
   "file_extension": ".py",
   "mimetype": "text/x-python",
   "name": "python",
   "nbconvert_exporter": "python",
   "pygments_lexer": "ipython3",
   "version": "3.12.4"
  }
 },
 "nbformat": 4,
 "nbformat_minor": 2
}
