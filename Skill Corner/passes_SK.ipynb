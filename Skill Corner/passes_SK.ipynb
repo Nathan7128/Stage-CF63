{
 "cells": [
  {
   "cell_type": "code",
   "execution_count": 1,
   "metadata": {},
   "outputs": [],
   "source": [
    "from skillcorner.client import SkillcornerClient\n",
    "\n",
    "import pandas as pd\n",
    "\n",
    "import numpy as np\n",
    "\n",
    "import os\n",
    "\n",
    "secret_password = os.getenv(\"mdp_skillcorner\")\n",
    "client = SkillcornerClient(username = \"Nathan.talbot@etu.uca.fr\", password= secret_password)\n",
    "\n",
    "from scipy.stats import ttest_ind"
   ]
  },
  {
   "cell_type": "code",
   "execution_count": 2,
   "metadata": {},
   "outputs": [],
   "source": [
    "passe_data_json = client.get_in_possession_passes(params = {'competition_edition': 549, \"group_by\" : \"team\",\n",
    "    \"run_type\" : [\"run_in_behind\", \"run_ahead_of_the_ball\", \"support_run\", \"pulling_wide_run\", \"coming_short_run\", \"underlap_run\",\n",
    "                  \"overlap_run\", \"dropping_off_run\", \"pulling_half_space_run\", \"cross_receiver_run\"]})"
   ]
  },
  {
   "cell_type": "code",
   "execution_count": 3,
   "metadata": {},
   "outputs": [],
   "source": [
    "ranking = [\"AJ Auxerre\", \"Angers SCO\", \"AS Saint-Étienne\", \"Rodez Aveyron\", \"Paris FC\", \"SM Caen\", \"Stade Lavallois Mayenne FC\",\n",
    "           \"Amiens Sporting Club\", \"En Avant de Guingamp\", \"Pau FC\", \"Grenoble Foot 38\", \"Girondins de Bordeaux\", \"SC Bastia\",\n",
    "           \"FC Annecy\", \"AC Ajaccio\", \"Dunkerque\", \"ES Troyes AC\", \"US Quevilly-Rouen\", \"US Concarneau\", \"Valenciennes FC\"]"
   ]
  },
  {
   "cell_type": "code",
   "execution_count": 5,
   "metadata": {},
   "outputs": [],
   "source": [
    "passe_data = pd.DataFrame(passe_data_json).set_index(\"team_name\")\n",
    "passe_data.drop([\"team_id\", \"third\", \"channel\", \"minutes_played_per_match\", \"adjusted_min_tip_per_match\",\n",
    "                   \"count_match\", \"count_match_failed\", \"count_opportunities_to_pass_to_runs_in_behind_in_sample\"], inplace = True, axis = 1)\n",
    "passe_data\n",
    "passe_data = passe_data.reindex(ranking)\n",
    "passe_data.to_excel(\"metrique_passe.xlsx\", header = True, index = True)"
   ]
  },
  {
   "cell_type": "code",
   "execution_count": 6,
   "metadata": {},
   "outputs": [],
   "source": [
    "top5 = ranking[:5]\n",
    "top15 = ranking[5:]\n",
    "top5_df = passe_data.loc[top5]\n",
    "top15_df = passe_data.loc[top15]"
   ]
  },
  {
   "cell_type": "code",
   "execution_count": 7,
   "metadata": {},
   "outputs": [
    {
     "name": "stderr",
     "output_type": "stream",
     "text": [
      "c:\\Users\\fabie\\Documents\\Programmation\\Github\\Skill Corner-CF\\env\\Lib\\site-packages\\scipy\\stats\\_axis_nan_policy.py:573: RuntimeWarning: Precision loss occurred in moment calculation due to catastrophic cancellation. This occurs when the data are nearly identical. Results may be unreliable.\n",
      "  res = hypotest_fun_out(*samples, **kwds)\n"
     ]
    }
   ],
   "source": [
    "dic_pvalue = {}\n",
    "\n",
    "for i in passe_data.columns :\n",
    "    ttest, pvalue = ttest_ind(top5_df[i], top15_df[i])\n",
    "    dic_pvalue[i] = pvalue"
   ]
  },
  {
   "cell_type": "code",
   "execution_count": 8,
   "metadata": {},
   "outputs": [],
   "source": [
    "tri = pd.DataFrame(pd.Series(dic_pvalue), columns=[\"pvalue\"]).sort_values(by=\"pvalue\")"
   ]
  },
  {
   "cell_type": "code",
   "execution_count": 9,
   "metadata": {},
   "outputs": [],
   "source": [
    "tri.to_excel(\"student_passe.xlsx\")"
   ]
  },
  {
   "cell_type": "code",
   "execution_count": null,
   "metadata": {},
   "outputs": [],
   "source": []
  },
  {
   "cell_type": "code",
   "execution_count": null,
   "metadata": {},
   "outputs": [],
   "source": []
  },
  {
   "cell_type": "code",
   "execution_count": null,
   "metadata": {},
   "outputs": [],
   "source": []
  },
  {
   "cell_type": "code",
   "execution_count": null,
   "metadata": {},
   "outputs": [],
   "source": []
  },
  {
   "cell_type": "code",
   "execution_count": null,
   "metadata": {},
   "outputs": [],
   "source": []
  },
  {
   "cell_type": "code",
   "execution_count": null,
   "metadata": {},
   "outputs": [],
   "source": []
  },
  {
   "cell_type": "code",
   "execution_count": null,
   "metadata": {},
   "outputs": [],
   "source": []
  },
  {
   "cell_type": "code",
   "execution_count": null,
   "metadata": {},
   "outputs": [],
   "source": []
  }
 ],
 "metadata": {
  "kernelspec": {
   "display_name": "Python 3",
   "language": "python",
   "name": "python3"
  },
  "language_info": {
   "codemirror_mode": {
    "name": "ipython",
    "version": 3
   },
   "file_extension": ".py",
   "mimetype": "text/x-python",
   "name": "python",
   "nbconvert_exporter": "python",
   "pygments_lexer": "ipython3",
   "version": "3.12.4"
  }
 },
 "nbformat": 4,
 "nbformat_minor": 2
}
