{
 "cells": [
  {
   "cell_type": "code",
   "execution_count": 2,
   "metadata": {},
   "outputs": [],
   "source": [
    "from skillcorner.client import SkillcornerClient\n",
    "\n",
    "import pandas as pd\n",
    "\n",
    "import numpy as np\n",
    "\n",
    "import os\n",
    "\n",
    "secret_password = os.getenv(\"mdp_skillcorner\")\n",
    "client = SkillcornerClient(username = \"Nathan.talbot@etu.uca.fr\", password= secret_password)\n",
    "\n",
    "from scipy.stats import ttest_ind"
   ]
  },
  {
   "cell_type": "code",
   "execution_count": 7,
   "metadata": {},
   "outputs": [],
   "source": [
    "physical_data_json = client.get_physical(params = {\"data_version\" : 3, 'competition_edition': 549, \"group_by\" : \"team\",\n",
    "                                                                     \"possession\" : [\"tip\", \"otip\"]})"
   ]
  },
  {
   "cell_type": "code",
   "execution_count": 5,
   "metadata": {},
   "outputs": [],
   "source": [
    "ranking = [\"AJ Auxerre\", \"Angers SCO\", \"AS Saint-Étienne\", \"Rodez Aveyron\", \"Paris FC\", \"SM Caen\", \"Stade Lavallois Mayenne FC\",\n",
    "           \"Amiens Sporting Club\", \"En Avant de Guingamp\", \"Pau FC\", \"Grenoble Foot 38\", \"Girondins de Bordeaux\", \"SC Bastia\",\n",
    "           \"FC Annecy\", \"AC Ajaccio\", \"Dunkerque\", \"ES Troyes AC\", \"US Quevilly-Rouen\", \"US Concarneau\", \"Valenciennes FC\"]"
   ]
  },
  {
   "cell_type": "code",
   "execution_count": 15,
   "metadata": {},
   "outputs": [],
   "source": [
    "physical_data = pd.DataFrame(physical_data_json).set_index(\"team_name\")\n",
    "physical_data.drop([\"team_id\", \"count_match\", \"count_match_failed\"], inplace = True, axis = 1)\n",
    "physical_data = physical_data.reindex(ranking)\n",
    "physical_data.to_excel(\"metrique_physical.xlsx\", header = True, index = True)"
   ]
  },
  {
   "cell_type": "code",
   "execution_count": 16,
   "metadata": {},
   "outputs": [],
   "source": [
    "top5 = ranking[:5]\n",
    "top15 = ranking[5:]\n",
    "top5_df = physical_data.loc[top5]\n",
    "top15_df = physical_data.loc[top15]"
   ]
  },
  {
   "cell_type": "code",
   "execution_count": 17,
   "metadata": {},
   "outputs": [],
   "source": [
    "dic_pvalue = {}\n",
    "\n",
    "for i in physical_data.columns :\n",
    "    ttest, pvalue = ttest_ind(top5_df[i], top15_df[i])\n",
    "    dic_pvalue[i] = pvalue"
   ]
  },
  {
   "cell_type": "code",
   "execution_count": 18,
   "metadata": {},
   "outputs": [],
   "source": [
    "tri = pd.DataFrame(pd.Series(dic_pvalue), columns=[\"pvalue\"]).sort_values(by=\"pvalue\")"
   ]
  },
  {
   "cell_type": "code",
   "execution_count": 19,
   "metadata": {},
   "outputs": [],
   "source": [
    "tri.to_excel(\"student_physical.xlsx\")"
   ]
  },
  {
   "cell_type": "code",
   "execution_count": 42,
   "metadata": {},
   "outputs": [],
   "source": []
  },
  {
   "cell_type": "code",
   "execution_count": null,
   "metadata": {},
   "outputs": [],
   "source": []
  },
  {
   "cell_type": "code",
   "execution_count": null,
   "metadata": {},
   "outputs": [],
   "source": []
  },
  {
   "cell_type": "code",
   "execution_count": null,
   "metadata": {},
   "outputs": [],
   "source": []
  },
  {
   "cell_type": "code",
   "execution_count": null,
   "metadata": {},
   "outputs": [],
   "source": []
  },
  {
   "cell_type": "code",
   "execution_count": null,
   "metadata": {},
   "outputs": [],
   "source": []
  },
  {
   "cell_type": "code",
   "execution_count": null,
   "metadata": {},
   "outputs": [],
   "source": []
  },
  {
   "cell_type": "code",
   "execution_count": null,
   "metadata": {},
   "outputs": [],
   "source": []
  },
  {
   "cell_type": "code",
   "execution_count": null,
   "metadata": {},
   "outputs": [],
   "source": []
  },
  {
   "cell_type": "code",
   "execution_count": null,
   "metadata": {},
   "outputs": [],
   "source": []
  },
  {
   "cell_type": "code",
   "execution_count": null,
   "metadata": {},
   "outputs": [],
   "source": []
  }
 ],
 "metadata": {
  "kernelspec": {
   "display_name": "Python 3",
   "language": "python",
   "name": "python3"
  },
  "language_info": {
   "codemirror_mode": {
    "name": "ipython",
    "version": 3
   },
   "file_extension": ".py",
   "mimetype": "text/x-python",
   "name": "python",
   "nbconvert_exporter": "python",
   "pygments_lexer": "ipython3",
   "version": "3.12.4"
  }
 },
 "nbformat": 4,
 "nbformat_minor": 2
}
