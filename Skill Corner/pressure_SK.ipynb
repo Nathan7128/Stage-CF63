{
 "cells": [
  {
   "cell_type": "code",
   "execution_count": 1,
   "metadata": {},
   "outputs": [],
   "source": [
    "from skillcorner.client import SkillcornerClient\n",
    "\n",
    "import pandas as pd\n",
    "\n",
    "import numpy as np\n",
    "\n",
    "import os\n",
    "\n",
    "secret_password = os.getenv(\"mdp_skillcorner\")\n",
    "client = SkillcornerClient(username = \"Nathan.talbot@etu.uca.fr\", password= secret_password)\n",
    "\n",
    "from scipy.stats import ttest_ind"
   ]
  },
  {
   "cell_type": "code",
   "execution_count": 2,
   "metadata": {},
   "outputs": [],
   "source": [
    "liste_dico = [{\"comp_id\" : 549,\n",
    "                \"ranking\" : [\"AJ Auxerre\", \"Angers SCO\", \"AS Saint-Étienne\", \"Rodez Aveyron\", \"Paris FC\", \"SM Caen\", \"Stade Lavallois Mayenne FC\",\n",
    "           \"Amiens Sporting Club\", \"En Avant de Guingamp\", \"Pau FC\", \"Grenoble Foot 38\", \"Girondins de Bordeaux\", \"SC Bastia\",\n",
    "           \"FC Annecy\", \"AC Ajaccio\", \"Dunkerque\", \"ES Troyes AC\", \"US Quevilly-Rouen\", \"US Concarneau\", \"Valenciennes FC\"],\n",
    "           \"annee\" : \"2023_2024\"},\n",
    "           {\"comp_id\" : 393,\n",
    "                \"ranking\" : [\"Le Havre AC\", \"FC Metz\", \"Girondins de Bordeaux\", \"SC Bastia\", \"SM Caen\", \"En Avant de Guingamp\", \"Paris FC\",\n",
    "           \"AS Saint-Étienne\", \"FC Sochaux-Montbéliard\", \"Grenoble Foot 38\", \"US Quevilly-Rouen\", \"Amiens Sporting Club\", \"Pau FC\",\n",
    "           \"Rodez Aveyron\", \"Stade Lavallois Mayenne FC\", \"Valenciennes FC\", \"FC Annecy\", \"Dijon FCO\", \"Nîmes Olympique\", \"Chamois Niortais FC\"],\n",
    "           \"annee\" : \"2022_2023\"}]\n",
    "\n",
    "# i = 0 : année 2023/2024, i = 1 : année 2022/2023\n",
    "i = 0\n",
    "dico = liste_dico[i]"
   ]
  },
  {
   "cell_type": "code",
   "execution_count": 3,
   "metadata": {},
   "outputs": [],
   "source": [
    "pressure_data_json = client.get_in_possession_on_ball_pressures(params = {'competition_edition': dico[\"comp_id\"], \"group_by\" : \"team\",\n",
    "                                                                     \"pressure_intensity\" : [\"low\", \"medium\", \"high\"]})"
   ]
  },
  {
   "cell_type": "code",
   "execution_count": 4,
   "metadata": {},
   "outputs": [],
   "source": [
    "pressure_data = pd.DataFrame(pressure_data_json).set_index(\"team_name\")\n",
    "pressure_data.drop([\"team_id\", \"third\", \"channel\", \"minutes_played_per_match\", \"adjusted_min_tip_per_match\",\n",
    "                   \"count_match\", \"count_match_failed\", \"count_low_pressures_received_in_sample\"], inplace = True, axis = 1)\n",
    "pressure_data = pressure_data.reindex(dico[\"ranking\"])\n",
    "pressure_data.to_excel(f\"..\\\\Tableau métriques\\\\{dico[\"annee\"]}\\\\Skill Corner\\\\metrique_pressure.xlsx\", header = True, index = True)"
   ]
  },
  {
   "cell_type": "code",
   "execution_count": 5,
   "metadata": {},
   "outputs": [],
   "source": [
    "top5 = dico[\"ranking\"][:5]\n",
    "top15 = dico[\"ranking\"][5:]\n",
    "top5_df = pressure_data.loc[top5]\n",
    "top15_df = pressure_data.loc[top15]"
   ]
  },
  {
   "cell_type": "code",
   "execution_count": 6,
   "metadata": {},
   "outputs": [],
   "source": [
    "dic_pvalue = {}\n",
    "\n",
    "for i in pressure_data.columns :\n",
    "    ttest, pvalue = ttest_ind(top5_df[i], top15_df[i])\n",
    "    dic_pvalue[i] = pvalue"
   ]
  },
  {
   "cell_type": "code",
   "execution_count": 7,
   "metadata": {},
   "outputs": [],
   "source": [
    "tri = pd.DataFrame(pd.Series(dic_pvalue), columns=[\"pvalue\"]).sort_values(by=\"pvalue\")"
   ]
  },
  {
   "cell_type": "code",
   "execution_count": 8,
   "metadata": {},
   "outputs": [],
   "source": [
    "tri.to_excel(f\"..\\\\Tableau métriques\\\\{dico[\"annee\"]}\\\\Skill Corner\\\\student_pressure.xlsx\")"
   ]
  }
 ],
 "metadata": {
  "kernelspec": {
   "display_name": "Python 3",
   "language": "python",
   "name": "python3"
  },
  "language_info": {
   "codemirror_mode": {
    "name": "ipython",
    "version": 3
   },
   "file_extension": ".py",
   "mimetype": "text/x-python",
   "name": "python",
   "nbconvert_exporter": "python",
   "pygments_lexer": "ipython3",
   "version": "3.12.4"
  }
 },
 "nbformat": 4,
 "nbformat_minor": 2
}
